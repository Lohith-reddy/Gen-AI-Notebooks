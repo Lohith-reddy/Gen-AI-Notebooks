{
 "cells": [
  {
   "cell_type": "markdown",
   "metadata": {
    "id": "view-in-github"
   },
   "source": [
    "<a href=\"https://colab.research.google.com/github/pgurazada/prompt-engineering/blob/main/prompt-engineering-with-azure.ipynb\" target=\"_parent\"><img src=\"https://colab.research.google.com/assets/colab-badge.svg\" alt=\"Open In Colab\"/></a>"
   ]
  },
  {
   "cell_type": "markdown",
   "metadata": {
    "id": "RJaa2AhDVgDF"
   },
   "source": [
    "# Business Case Study -  Khanmigo!"
   ]
  },
  {
   "cell_type": "markdown",
   "metadata": {
    "id": "Co9B48xzVgDI"
   },
   "source": [
    "Khanmigo is an AI-powered tool from Khan Academy that they call \"Tutor for learners. Assistant for teachers.” It provides personalized learning experiences for students. It offers guidance to students on math, science, and humanities problems, a debate tool, and a writing tutor. It can support teachers in several tasks, like a teaching assistant.\n",
    "\n",
    "Today, we are going to replicate some of the features of Khanmigo using prompting techniques we have learnt so far. We are going to focus on select features of Khanmigo that are developed to help teachers.\n",
    "\n",
    "We will step into the shoes of developers who have built these features for Khanmigo."
   ]
  },
  {
   "cell_type": "markdown",
   "metadata": {
    "id": "idpLT_8jml_7"
   },
   "source": [
    "## Journey of a Teacher"
   ]
  },
  {
   "cell_type": "markdown",
   "metadata": {
    "id": "LwZiktOBmtE9"
   },
   "source": [
    "To Develop features that a teacher would require, we need to empathise with the teacher. So, Let's jump into the shoes of a teacher. Let's say Our first assignment is to teach about Newton's third law of motion to grade 8 students. Below is the lesson material provided by our institution.\n",
    "\n",
    "**Lesson Material:**\n",
    "\n",
    "Title: Understanding Newton's Third Law: Action and Reaction\n",
    "\n",
    "**Objective:**\n",
    "By the end of this lesson, students will be able to:\n",
    "\n",
    "1. Define Newton's Third Law of Motion.\n",
    "2. Identify action and reaction force pairs in various scenarios.\n",
    "3. Explain real-life applications of Newton's Third Law.\n",
    "\n",
    "**Body:**\n",
    "\n",
    "**1. What is Newton's Third Law?**\n",
    "   - Explain that Newton's Third Law states: \"For every action, there is an equal and opposite reaction.\"\n",
    "   - Break down the meaning of this law: when one object exerts a force on a second object, the second object exerts a force of equal magnitude in the opposite direction on the first object.\n",
    "\n",
    "**2. Action and Reaction Pairs:**\n",
    "   - Provide examples and ask students to identify the action and reaction force pairs in each scenario. Examples could include:\n",
    "     - A person pushing against a wall.\n",
    "     - A ball bouncing off the ground.\n",
    "     - A swimmer pushing against the water.\n",
    "   - Encourage students to think about the forces involved and how they act on different objects.\n",
    "\n",
    "**3. Real-Life Applications:**\n",
    "   - Discuss real-life examples where Newton's Third Law is at play, such as:\n",
    "     - Rocket propulsion: The action force is the expulsion of gas from the rocket engines, and the reaction force is the resulting upward movement of the rocket.\n",
    "     - Walking: Each step involves pushing against the ground, which pushes back with an equal force, propelling the person forward.\n",
    "     - Driving a car: The tires push against the road, and the road pushes back, propelling the car forward.\n",
    "   - Encourage students to brainstorm other examples they encounter in daily life.\n",
    "   \n",
    "**Conclusion:**\n",
    "Review the key points of the lesson:\n",
    "- Newton's Third Law states that for every action, there is an equal and opposite reaction.\n",
    "- Action and reaction force pairs exist in all interactions between objects.\n",
    "- Understanding Newton's Third Law helps us explain and predict motion in the world around us.\n",
    "\n",
    "**Assessment:**\n",
    "Conduct a short quiz or discussion to assess students' understanding of Newton's Third Law and their ability to identify action and reaction force pairs in different scenarios. Encourage students to ask questions if they need further clarification.\n",
    "\n",
    "**Extension:**\n",
    "Challenge students to research and present on advanced applications of Newton's Third Law, such as in sports, engineering, or space exploration. This can deepen their understanding and appreciation of the concept."
   ]
  },
  {
   "cell_type": "markdown",
   "metadata": {
    "id": "R46hb_Rnp-Xi"
   },
   "source": [
    "\n",
    "\n",
    "---\n",
    "\n",
    "\n",
    "This is good foundational material but this alone doesn't provide great learning experience. One of the first things a good learning experience requires is a lesson hook.\n",
    "\n",
    "A lesson hook is a tool used by teacher to grab students' attention and maintaining their engagement, providing a gateway into the lesson's content.\n",
    "\n",
    "A lesson hook can take various forms, such as a question, activity, game, story, or compelling analogy. Each topic can be approached and explained from diverse angles. An effective lesson hook not only seizes attention but also makes the subject matter relevant to students' lives, sparking curiosity and fostering a desire to delve deeper into the topic.\n",
    "\n",
    "However, brainstorming lesson hooks for each topic can be overwhelming, particularly when dealing with multiple classes or classes with varying cognitive levels. Leveraging Language Models (LLMs), teachers can swiftly generate ideas tailored to the topic and cognitive level. Additionally, incorporating students' interests and hobbies can further enhance the relevance and relatability of the lesson hooks.\n",
    "\n",
    "\n",
    "---\n",
    "\n"
   ]
  },
  {
   "cell_type": "markdown",
   "metadata": {
    "id": "-qSpROMTqjEj"
   },
   "source": [
    "So, the first feature of our app should be a 'lesson hook creator'. Before we dive into building that, let's set up our environment."
   ]
  },
  {
   "cell_type": "markdown",
   "metadata": {
    "id": "vTQLyYtNVgDL"
   },
   "source": [
    "## Setup"
   ]
  },
  {
   "cell_type": "markdown",
   "metadata": {
    "id": "jRRgiY2nV0nj"
   },
   "source": [
    "### Installation\n",
    "\n",
    "Since Colab instances are not persistent, for each session, we need to install the packages required for the session each time a new session is started.\n"
   ]
  },
  {
   "cell_type": "code",
   "execution_count": 1,
   "metadata": {
    "colab": {
     "base_uri": "https://localhost:8080/"
    },
    "executionInfo": {
     "elapsed": 11419,
     "status": "ok",
     "timestamp": 1713348820835,
     "user": {
      "displayName": "Sai Lohith Reddy Gummireddy",
      "userId": "15869979807103790771"
     },
     "user_tz": -330
    },
    "id": "96gzi7R2Vz_H",
    "outputId": "07fd19d2-0869-46c8-c6c9-672b4677b835"
   },
   "outputs": [
    {
     "name": "stderr",
     "output_type": "stream",
     "text": [
      "  WARNING: The script openai.exe is installed in 'C:\\Users\\Sai Lohith Reddy\\AppData\\Roaming\\Python\\Python311\\Scripts' which is not on PATH.\n",
      "  Consider adding this directory to PATH or, if you prefer to suppress this warning, use --no-warn-script-location.\n",
      "ERROR: pip's dependency resolver does not currently take into account all the packages that are installed. This behaviour is the source of the following dependency conflicts.\n",
      "langchain-openai 0.1.14 requires openai<2.0.0,>=1.32.0, but you have openai 1.2.0 which is incompatible.\n",
      "langchain-openai 0.1.14 requires tiktoken<1,>=0.7, but you have tiktoken 0.6.0 which is incompatible.\n"
     ]
    }
   ],
   "source": [
    "!pip install openai==1.2 tiktoken==0.6 session-info --quiet"
   ]
  },
  {
   "cell_type": "markdown",
   "metadata": {
    "id": "8mEMF8Z2VgDL"
   },
   "source": [
    "### Imports"
   ]
  },
  {
   "cell_type": "code",
   "execution_count": 2,
   "metadata": {
    "id": "ed3kbB7nVgDL"
   },
   "outputs": [],
   "source": [
    "# Import all Python packages required to access the Azure Open AI API\n",
    "import json\n",
    "import tiktoken\n",
    "import session_info\n",
    "\n",
    "from openai import AzureOpenAI"
   ]
  },
  {
   "cell_type": "code",
   "execution_count": 3,
   "metadata": {
    "colab": {
     "base_uri": "https://localhost:8080/",
     "height": 34
    },
    "executionInfo": {
     "elapsed": 635,
     "status": "ok",
     "timestamp": 1713348822198,
     "user": {
      "displayName": "Sai Lohith Reddy Gummireddy",
      "userId": "15869979807103790771"
     },
     "user_tz": -330
    },
    "id": "rym0wgHeXp0d",
    "outputId": "14374cc7-a426-4b04-c78e-0b409e2df444"
   },
   "outputs": [
    {
     "data": {
      "text/html": [
       "<details>\n",
       "<summary>Click to view session information</summary>\n",
       "<pre>\n",
       "-----\n",
       "openai              1.2.0\n",
       "session_info        1.0.0\n",
       "tiktoken            NA\n",
       "-----\n",
       "</pre>\n",
       "<details>\n",
       "<summary>Click to view modules imported as dependencies</summary>\n",
       "<pre>\n",
       "Cython              3.0.10\n",
       "annotated_types     0.7.0\n",
       "anyio               NA\n",
       "asttokens           NA\n",
       "attr                23.2.0\n",
       "babel               2.11.0\n",
       "backcall            0.2.0\n",
       "brotli              NA\n",
       "certifi             2023.07.22\n",
       "chardet             4.0.0\n",
       "charset_normalizer  2.0.4\n",
       "click               8.1.7\n",
       "colorama            0.4.6\n",
       "comm                0.1.2\n",
       "cython              3.0.10\n",
       "cython_runtime      NA\n",
       "dateutil            2.8.2\n",
       "debugpy             1.6.7\n",
       "decorator           5.1.1\n",
       "distro              1.9.0\n",
       "entrypoints         0.4\n",
       "executing           0.8.3\n",
       "fastjsonschema      NA\n",
       "h11                 0.14.0\n",
       "httpcore            1.0.5\n",
       "httpx               0.27.2\n",
       "idna                3.4\n",
       "ipykernel           6.25.0\n",
       "ipython_genutils    0.2.0\n",
       "ipywidgets          8.0.4\n",
       "jedi                0.18.1\n",
       "jinja2              3.1.4\n",
       "json5               NA\n",
       "jsonpointer         2.1\n",
       "jsonschema          4.17.3\n",
       "jupyter_server      1.23.4\n",
       "jupyterlab_server   2.22.0\n",
       "markupsafe          2.1.1\n",
       "mkl                 2.4.0\n",
       "mpl_toolkits        NA\n",
       "nbformat            5.9.2\n",
       "numpy               1.24.3\n",
       "packaging           23.2\n",
       "parso               0.8.3\n",
       "pickleshare         0.7.5\n",
       "pkg_resources       NA\n",
       "platformdirs        3.10.0\n",
       "prometheus_client   NA\n",
       "prompt_toolkit      3.0.36\n",
       "psutil              5.9.0\n",
       "pure_eval           0.2.2\n",
       "pvectorc            NA\n",
       "pydantic            2.9.2\n",
       "pydantic_core       2.23.4\n",
       "pydev_ipython       NA\n",
       "pydevconsole        NA\n",
       "pydevd              2.9.5\n",
       "pydevd_file_utils   NA\n",
       "pydevd_plugins      NA\n",
       "pydevd_tracing      NA\n",
       "pygments            2.15.1\n",
       "pyrsistent          NA\n",
       "pythoncom           NA\n",
       "pywin32_system32    NA\n",
       "pywintypes          NA\n",
       "regex               2.5.116\n",
       "requests            2.32.3\n",
       "rfc3339_validator   0.1.4\n",
       "rfc3986_validator   0.1.1\n",
       "rich                NA\n",
       "ruamel              NA\n",
       "send2trash          NA\n",
       "six                 1.16.0\n",
       "sniffio             1.2.0\n",
       "socks               1.7.1\n",
       "sphinxcontrib       NA\n",
       "stack_data          0.2.0\n",
       "terminado           0.17.1\n",
       "tiktoken_ext        NA\n",
       "tornado             6.3.2\n",
       "traitlets           5.7.1\n",
       "typing_extensions   NA\n",
       "urllib3             2.2.1\n",
       "vscode              NA\n",
       "wcwidth             0.2.5\n",
       "websocket           0.58.0\n",
       "win32api            NA\n",
       "win32com            NA\n",
       "win32con            NA\n",
       "win32trace          NA\n",
       "winerror            NA\n",
       "winpty              2.0.10\n",
       "zmq                 23.2.0\n",
       "zope                NA\n",
       "zstandard           0.19.0\n",
       "</pre>\n",
       "</details> <!-- seems like this ends pre, so might as well be explicit -->\n",
       "<pre>\n",
       "-----\n",
       "IPython             8.15.0\n",
       "jupyter_client      7.4.9\n",
       "jupyter_core        5.3.0\n",
       "jupyterlab          3.6.3\n",
       "notebook            6.5.4\n",
       "-----\n",
       "Python 3.11.5 | packaged by Anaconda, Inc. | (main, Sep 11 2023, 13:26:23) [MSC v.1916 64 bit (AMD64)]\n",
       "Windows-10-10.0.19045-SP0\n",
       "-----\n",
       "Session information updated at 2024-12-07 12:45\n",
       "</pre>\n",
       "</details>"
      ],
      "text/plain": [
       "<IPython.core.display.HTML object>"
      ]
     },
     "execution_count": 3,
     "metadata": {},
     "output_type": "execute_result"
    }
   ],
   "source": [
    "session_info.show()"
   ]
  },
  {
   "cell_type": "markdown",
   "metadata": {
    "id": "vdLOQCy8VgDM"
   },
   "source": [
    "### Authentication"
   ]
  },
  {
   "cell_type": "markdown",
   "metadata": {
    "id": "OmkaXJAXVgDM"
   },
   "source": [
    "In order to be abe to authenticate our identity and programmatically access the Azure Open AI API from Google Colab, we need to read our credentials into the Colab environment in a secure way.\n",
    "\n",
    "A strongly recommended method to do this is to write credentials to a `json` file that is read during execution of a Colab session. Do not save keys in a public repository."
   ]
  },
  {
   "cell_type": "code",
   "execution_count": 48,
   "metadata": {
    "id": "VGdFtTq5VgDO"
   },
   "outputs": [],
   "source": [
    "# Azure Open AI redentials and the id of the deployed chat model are stored as\n",
    "# key value pairs in a json file\n",
    "\n",
    "with open('config_4o.json', 'r') as az_creds:\n",
    "    data = az_creds.read()"
   ]
  },
  {
   "cell_type": "code",
   "execution_count": 42,
   "metadata": {},
   "outputs": [],
   "source": [
    "with open('4omini.json', 'r') as az_creds:\n",
    "    data = az_creds.read()"
   ]
  },
  {
   "cell_type": "code",
   "execution_count": 49,
   "metadata": {
    "id": "32YnDerNVgDO"
   },
   "outputs": [],
   "source": [
    "creds = json.loads(data)"
   ]
  },
  {
   "cell_type": "code",
   "execution_count": 50,
   "metadata": {
    "id": "yp_CJP9dSBNp"
   },
   "outputs": [],
   "source": [
    "# Credentials to authenticate to the personalized Open AI model server\n",
    "\n",
    "client = AzureOpenAI(\n",
    "    azure_endpoint=creds[\"AZURE_OPENAI_ENDPOINT\"],\n",
    "    api_key=creds[\"AZURE_OPENAI_KEY\"],\n",
    "    api_version=creds[\"AZURE_OPENAI_APIVERSION\"]\n",
    ")"
   ]
  },
  {
   "cell_type": "code",
   "execution_count": 51,
   "metadata": {
    "id": "oSm0bn6dVgDO"
   },
   "outputs": [],
   "source": [
    "# Deployment namre of the ChatCompletion endpoint\n",
    "deployment_name = creds[\"CHATGPT_MODEL\"]"
   ]
  },
  {
   "cell_type": "code",
   "execution_count": null,
   "metadata": {},
   "outputs": [],
   "source": []
  },
  {
   "cell_type": "markdown",
   "metadata": {
    "id": "EomRmotyuLIF"
   },
   "source": [
    "## 1 Creating a Lesson Hook"
   ]
  },
  {
   "cell_type": "markdown",
   "metadata": {
    "id": "ptA_2Y_NuQ6_"
   },
   "source": [
    "**What Does a Lesson Hook Accomplish?**\n",
    "\n",
    "**Grabbing Attention:** A hook immediately captures students' attention and focuses their minds on the lesson at hand.\n",
    "\n",
    "**Generating Curiosity:** It piques students' curiosity and encourages them to want to learn more about the topic.\n",
    "\n",
    "**Creating Relevance:** By relating the lesson to students' lives or interests, a hook makes the material more relevant and meaningful to them.\n",
    "\n",
    "**Building Enthusiasm:** A well-executed hook creates excitement and enthusiasm for learning, motivating students to actively participate in the lesson.\n",
    "\n",
    "**Establishing Connection:** It establishes a connection between the students and the lesson content, laying the foundation for deeper understanding and engagement.\n",
    "\n",
    "In summary, a lesson hook is a powerful tool for engaging students, generating interest, and setting the stage for effective learning. It captures attention, fosters curiosity, and makes the lesson content relevant and meaningful to students, ultimately leading to greater retention and understanding."
   ]
  },
  {
   "cell_type": "markdown",
   "metadata": {
    "id": "R0KR_CkhvpDd"
   },
   "source": [
    "\n",
    "\n",
    "---\n",
    "\n",
    "\n",
    "We need to create a prompt that can get a lesson hook from the LLM given a topic. Of the three prompting techniques we learnt, what do you think is the best prompting technique for this purpose?\n",
    "\n",
    "Let's try one by one and see what works best. You are encouraged to suggest modifications to the prompts.\n",
    "\n",
    "---\n",
    "\n"
   ]
  },
  {
   "cell_type": "markdown",
   "metadata": {
    "id": "Ln5Pr5aIv9-D"
   },
   "source": [
    "### 1.1 Zero-Shot"
   ]
  },
  {
   "cell_type": "code",
   "execution_count": 31,
   "metadata": {
    "id": "KPQJ-NCIzTzw"
   },
   "outputs": [],
   "source": [
    "zero_shot_prompt = \"\"\"Create a list of 3-5 engaging lesson hooks for a  lesson keeping in mind the grade of the students.\n",
    "The hooks should be designed to capture students' attention and interest at the start of the lesson.\n",
    "Consider the developmental needs and interests of students at this age when crafting the hooks.\"\"\""
   ]
  },
  {
   "cell_type": "code",
   "execution_count": 32,
   "metadata": {
    "id": "dXEGTvlV0RDt"
   },
   "outputs": [],
   "source": [
    "user_prompt = \"Create a lesson hook for a lesson on newton's third law of motion for grade 8 students\""
   ]
  },
  {
   "cell_type": "code",
   "execution_count": 33,
   "metadata": {
    "id": "zJiR3Q9g8rJj"
   },
   "outputs": [],
   "source": [
    "messages = [\n",
    "    {\"role\": \"system\", \"content\": zero_shot_prompt},\n",
    "    {\"role\": \"user\", \"content\": user_prompt}\n",
    "]"
   ]
  },
  {
   "cell_type": "code",
   "execution_count": 52,
   "metadata": {
    "id": "Jr2knWqGIYTh"
   },
   "outputs": [],
   "source": [
    "response = client.chat.completions.create(\n",
    "    model=deployment_name,\n",
    "    messages=messages,\n",
    "    max_tokens=4096\n",
    ")"
   ]
  },
  {
   "cell_type": "code",
   "execution_count": 53,
   "metadata": {
    "colab": {
     "base_uri": "https://localhost:8080/"
    },
    "executionInfo": {
     "elapsed": 5,
     "status": "ok",
     "timestamp": 1713333998755,
     "user": {
      "displayName": "Sai Lohith Reddy Gummireddy",
      "userId": "15869979807103790771"
     },
     "user_tz": -330
    },
    "id": "oQ-9vZMfHj76",
    "outputId": "87b3c3e1-3291-4530-ac48-3c88f5ff137a"
   },
   "outputs": [
    {
     "name": "stdout",
     "output_type": "stream",
     "text": [
      "1. **Balloon Rocket Experiment**: Begin the lesson by setting up a balloon rocket demonstration. Inflate a balloon and tape it to a straw threaded on a string stretched across the classroom. Release the balloon and let it zoom across the string. Ask the students to observe and guess what just happened. Use this activity to introduce the concept of action and reaction forces present in Newton's Third Law of Motion.\n",
      "\n",
      "2. **Recoil Challenge**: Bring in a simple toy like a Nerf gun or a rubber band launcher. Let a student or volunteer hold the gun still, and shoot a foam dart or stretch and release the rubber band. Immediately ask the class to describe any movement they saw. Why did the toy move backward a little? Discuss the idea of how actions cause reactions, linking it to everyday experiences like firing a gun or kicking a soccer ball.\n",
      "\n",
      "3. **Video Clip Hook**: Show a short and engaging video clip of a rocket launch or a skateboard trick. Pause the clip at an exciting moment and ask the students what forces they think are in play. Prompt them to think about the movement and what might be occurring in terms of forces for both the rocket and skateboarder, segueing into a discussion on equal and opposite reactions.\n",
      "\n",
      "4. **Interactive Tug-of-War**: Organize a mini tug-of-war game right in the classroom! Split the class into two small teams for this friendly competition. After the game, lead a discussion on how the forces exerted by each team were affecting the rope and each team's movement, paving the way to introduce the principle of action and reaction.\n",
      "\n",
      "5. **Mystery Box**: Present a mystery box and encourage students to brainstorm what could happen if they dropped it or pushed it. After gathering predictions, reveal that the box contains a spring and demonstrate how pushing one side causes the other side to move – a clear example of action and reaction forces. Encourage them to connect this experience to Newton's laws.\n"
     ]
    }
   ],
   "source": [
    "print(response.choices[0].message.content)"
   ]
  },
  {
   "cell_type": "markdown",
   "metadata": {
    "id": "iSgH9ULN1q8T"
   },
   "source": [
    "That's not a bad output at all. We can further modify parameters like temperature and top-k.\n",
    "\n",
    "What do you think temperature should be for this excercise. Low or High? Why do you think so?"
   ]
  },
  {
   "cell_type": "markdown",
   "metadata": {
    "id": "0Hbv2SgtxEcA"
   },
   "source": [
    "### 1.2 Temperature"
   ]
  },
  {
   "cell_type": "markdown",
   "metadata": {
    "id": "IXnCNP1axpca"
   },
   "source": [
    "This parameter controls the variability in the response. Using a higher temperature results in potentially lower probability tokens being chosen.\n",
    "\n",
    "With higher temperatures, we could prompt the model to make multiple completions for the same prompt."
   ]
  },
  {
   "cell_type": "markdown",
   "metadata": {
    "id": "VTIPKrziyKoj"
   },
   "source": [
    "With a temperature of 0, only the highest probability tokens are chosen so multiple completions should return the same response. This is not very useful for our feature. We want to give multiple options to the teachers to choose from."
   ]
  },
  {
   "cell_type": "code",
   "execution_count": 15,
   "metadata": {
    "id": "1VKtW9jHK-KL"
   },
   "outputs": [],
   "source": [
    "response = client.chat.completions.create(\n",
    "    model=deployment_name,\n",
    "    messages=messages,\n",
    "    n=2,# <- This will ask the model to present two choices for completion so that the teacher has many options to choose from\n",
    "    temperature=0\n",
    ")"
   ]
  },
  {
   "cell_type": "code",
   "execution_count": 16,
   "metadata": {
    "colab": {
     "base_uri": "https://localhost:8080/"
    },
    "executionInfo": {
     "elapsed": 8,
     "status": "ok",
     "timestamp": 1713334410103,
     "user": {
      "displayName": "Sai Lohith Reddy Gummireddy",
      "userId": "15869979807103790771"
     },
     "user_tz": -330
    },
    "id": "XH0RE-hQLBlX",
    "outputId": "8ec95673-f63d-4c9e-d1c9-2c59013771fc"
   },
   "outputs": [
    {
     "name": "stdout",
     "output_type": "stream",
     "text": [
      "1. \"The Great Balloon Race\": Inflate two balloons and attach them to a string. Have students hold the string and let go of the balloons at the same time. Ask them to observe what happens. This activity demonstrates Newton's Third Law of Motion, where for every action, there is an equal and opposite reaction.\n",
      "\n",
      "2. \"Egg Drop Challenge\": Challenge students to design a container that will protect an egg from breaking when dropped from a height. This activity will require students to apply Newton's Third Law of Motion to create a design that will counteract the force of gravity and prevent the egg from breaking.\n",
      "\n",
      "3. \"Human Tug-of-War\": Divide the class into two teams and have them play a game of tug-of-war. Ask students to observe what happens when one team pulls harder than the other. This activity demonstrates Newton's Third Law of Motion, where the force exerted by one team is equal and opposite to the force exerted by the other team.\n",
      "\n",
      "4. \"Rocket Launch\": Build a simple rocket using a balloon, a straw, and some tape. Inflate the balloon and then release it, observing how the rocket moves. This activity demonstrates Newton's Third Law of Motion, where the force of the air escaping from the balloon propels the rocket forward.\n",
      "\n",
      "5. \"Bouncing Balls\": Provide students with a variety of balls of different sizes and materials. Ask them to drop the balls and observe how they bounce. This activity demonstrates Newton's Third Law of Motion, where the force of the ball hitting the ground is equal and opposite to the force of the ground pushing back on the ball.\n"
     ]
    }
   ],
   "source": [
    "print(response.choices[0].message.content)"
   ]
  },
  {
   "cell_type": "code",
   "execution_count": 17,
   "metadata": {
    "colab": {
     "base_uri": "https://localhost:8080/"
    },
    "executionInfo": {
     "elapsed": 6,
     "status": "ok",
     "timestamp": 1713334410103,
     "user": {
      "displayName": "Sai Lohith Reddy Gummireddy",
      "userId": "15869979807103790771"
     },
     "user_tz": -330
    },
    "id": "RmuqyXRfRi7h",
    "outputId": "f37da989-ce45-415f-dd2d-d24c8da11b57"
   },
   "outputs": [
    {
     "name": "stdout",
     "output_type": "stream",
     "text": [
      "1. \"The Great Balloon Race\": Inflate two balloons and attach them to a string. Have students hold the string and let go of the balloons at the same time. Ask them to observe what happens. This activity demonstrates Newton's Third Law of Motion, where for every action, there is an equal and opposite reaction.\n",
      "\n",
      "2. \"Egg Drop Challenge\": Challenge students to design a container that will protect an egg from breaking when dropped from a height. This activity will require students to apply Newton's Third Law of Motion to create a design that will counteract the force of gravity and prevent the egg from breaking.\n",
      "\n",
      "3. \"Human Tug-of-War\": Divide the class into two teams and have them play a game of tug-of-war. Ask students to observe what happens when one team pulls harder than the other. This activity demonstrates Newton's Third Law of Motion, where the force exerted by one team is equal and opposite to the force exerted by the other team.\n",
      "\n",
      "4. \"Rocket Launch\": Build a simple rocket using a balloon, a straw, and some tape. Inflate the balloon and then release it, observing how the rocket moves. This activity demonstrates Newton's Third Law of Motion, where the force of the air escaping from the balloon propels the rocket forward.\n",
      "\n",
      "5. \"Bouncing Balls\": Provide students with a variety of balls of different sizes and materials. Ask them to drop the balls and observe how they bounce. This activity demonstrates Newton's Third Law of Motion, where the force of the ball hitting the ground is equal and opposite to the force of the ground pushing back on the ball.\n"
     ]
    }
   ],
   "source": [
    "print(response.choices[1].message.content)"
   ]
  },
  {
   "cell_type": "code",
   "execution_count": 18,
   "metadata": {
    "colab": {
     "base_uri": "https://localhost:8080/"
    },
    "executionInfo": {
     "elapsed": 4685,
     "status": "ok",
     "timestamp": 1713334284771,
     "user": {
      "displayName": "Sai Lohith Reddy Gummireddy",
      "userId": "15869979807103790771"
     },
     "user_tz": -330
    },
    "id": "cWKcbP_aUoj_",
    "outputId": "1df7987d-f2de-4713-abe6-d28806f71187"
   },
   "outputs": [],
   "source": [
    "response = client.chat.completions.create(\n",
    "    model=deployment_name,\n",
    "    messages=messages,\n",
    "    max_tokens=4096,\n",
    "    n=2, # <- This will ask the model to present two choices for completion\n",
    "    temperature=0.8\n",
    ")"
   ]
  },
  {
   "cell_type": "code",
   "execution_count": 19,
   "metadata": {
    "colab": {
     "base_uri": "https://localhost:8080/"
    },
    "executionInfo": {
     "elapsed": 704,
     "status": "ok",
     "timestamp": 1713334285465,
     "user": {
      "displayName": "Sai Lohith Reddy Gummireddy",
      "userId": "15869979807103790771"
     },
     "user_tz": -330
    },
    "id": "-_Ya5yh3U8yN",
    "outputId": "46dff0e7-2e86-47b0-bd37-e659b9a0e53c"
   },
   "outputs": [
    {
     "name": "stdout",
     "output_type": "stream",
     "text": [
      "1. \"The Ultimate Reaction Time Challenge\": Set up a table tennis game in the classroom, but instead of using regular paddles, use paper plates and popsicle sticks to create makeshift paddles. Divide the students into teams and challenge them to hit the ball with their \"paddles\" as quickly as they can. After a few rounds, introduce the concept of Newton's Third Law by showing how the ball reacts with equal and opposite force to the paddle's impact.\n",
      "\n",
      "2. \"Human Newton's Cradle\": Using tennis balls or any other small balls, set up a human-sized version of Newton's Cradle in the classroom. Assign students to stand in a line and hold hands. After dropping one ball, watch as the energy from the ball is transferred down the line, causing the last person to release the final ball. Use this demonstration to introduce the concept of conservation of energy and how Newton's Third Law applies.\n",
      "\n",
      "3. \"Egg Drop Challenge\": Divide the class into small groups and provide them with a raw egg and various materials (straws, toothpicks, paper, etc.) to design a container that will protect the egg when dropped from a height. After the designs are complete, drop each group's container from the same height and observe how the egg reacts to the impact. Use this challenge to introduce the concept of Newton's Third Law and how objects react with equal and opposite force. \n",
      "\n",
      "4. \"Balloon Rocket Race\": Set up a track with fishing line and challenge students to create a balloon-powered rocket car using materials such as balloons, straws, and tape. After testing their creations, explain how Newton's Third Law applies to the movement of the car. \n",
      "\n",
      "5. \"The Force Is Strong With This One\": Bring in a Star Wars themed object such as a toy lightsaber or a Darth Vader mask. Have students take turns holding the object and swinging it through the air, then explain how Newton's Third Law applies to the force behind the swing. This hook can be especially engaging for students who are interested in sci-fi and pop culture.\n"
     ]
    }
   ],
   "source": [
    "print(response.choices[0].message.content)"
   ]
  },
  {
   "cell_type": "code",
   "execution_count": 20,
   "metadata": {
    "colab": {
     "base_uri": "https://localhost:8080/"
    },
    "executionInfo": {
     "elapsed": 5,
     "status": "ok",
     "timestamp": 1713334285465,
     "user": {
      "displayName": "Sai Lohith Reddy Gummireddy",
      "userId": "15869979807103790771"
     },
     "user_tz": -330
    },
    "id": "Mde7YKABRlse",
    "outputId": "bda3230e-865e-4b1b-f2a2-ff148adb4e53"
   },
   "outputs": [
    {
     "name": "stdout",
     "output_type": "stream",
     "text": [
      "1. Egg Drop Challenge: Start the lesson by challenging students to design a container that will protect an egg from breaking when dropped from a height. Once students have designed their containers, have them drop the containers and observe the impact. Then ask students to explain why the egg did or did not break, and how Newton's third law of motion applies to their designs.\n",
      "\n",
      "2. Balloon Rockets: Set up a simple experiment by attaching a balloon to a string and then releasing the air. The balloon will act as a rocket and move in the opposite direction of the air being released. Ask students to explain why the balloon moves in this way, and how Newton's third law of motion applies to the experiment.\n",
      "\n",
      "3. Human Tug of War: Divide the class into two teams and have them play a game of tug of war. Ask students to explain why both teams are pulling with equal force, and how Newton's third law of motion applies to the game.\n",
      "\n",
      "4. Ping Pong Ball Launcher: Build a simple ping pong ball launcher using a plastic cup, rubber band, and popsicle stick. Ask students to predict what will happen when they launch the ball, and then observe the results. Ask students to explain why the ball moves in the opposite direction of the launcher, and how Newton's third law of motion applies to the experiment.\n",
      "\n",
      "5. Stop-Motion Animation: Use stop-motion animation to demonstrate Newton's third law of motion. Have students create a short animation using clay or other materials, showing two objects interacting with each other in opposite directions. Ask students to explain how Newton's third law of motion applies to their animations.\n"
     ]
    }
   ],
   "source": [
    "print(response.choices[1].message.content)"
   ]
  },
  {
   "cell_type": "markdown",
   "metadata": {
    "id": "BVO_zTOpHi0X"
   },
   "source": [
    "Those are decent results. Moving on, let's look at the quality of results we can get with few-shot prompting."
   ]
  },
  {
   "cell_type": "markdown",
   "metadata": {
    "id": "amyyBdOzIdSk"
   },
   "source": [
    "### 1.3 Few Shot Prompting"
   ]
  },
  {
   "cell_type": "code",
   "execution_count": 21,
   "metadata": {
    "id": "L-PXaluSTX4-"
   },
   "outputs": [],
   "source": [
    "system_message = \"\"\"Create a list of 3-5 engaging lesson hooks for a  lesson keeping in mind the grade of the students.\n",
    "The hooks should be designed to capture students' attention and interest at the start of the lesson.\n",
    "Consider the developmental needs and interests of students at this age when crafting the hooks.\"\"\""
   ]
  },
  {
   "cell_type": "code",
   "execution_count": 23,
   "metadata": {
    "id": "Sa6vpEz39gZx"
   },
   "outputs": [],
   "source": [
    "messsages = [\n",
    "    {\"role\": \"system\", \"content\": system_message},\n",
    "\n",
    "    {\"role\": \"user\", \"content\": \"Create a lesson hook on States of Matter for grade 5\"},\n",
    "    {\"role\": \"assistant\", \"content\": \"\"\"Bring in a few different objects (e.g., ice cube, piece of metal, balloon) and ask students to describe their properties.\n",
    "Then reveal that these objects are all made of the same basic building blocks - atoms and molecules - just in different states.\"\"\"},\n",
    "\n",
    "    {\"role\": \"user\", \"content\": \"Create a lesson hook on Multiplication for grade 3\"},\n",
    "    {\"role\": \"assistant\", \"content\": \"\"\"Tell a simple story about going to the store and buying multiple items of the same kind (e.g., 3 bags of apples with 4 apples in each bag).\n",
    "Have students act it out with manipulatives to discover multiplication.\"\"\"},\n",
    "\n",
    "    {\"role\": \"user\", \"content\": \"Create a lesson hook on civil war for grade 7\"},\n",
    "    {\"role\": \"assistant\", \"content\": \"\"\"Hook: Read contrasting first-hand accounts from soldiers on opposite sides of a major battle.\n",
    "Discuss how perspectives differ.\"\"\"},\n",
    "\n",
    "    {\"role\": \"user\", \"content\": \"Create a lesson hook on Photosynthesis for grade 7\"},\n",
    "    {\"role\": \"assistant\", \"content\": \"\"\"The Incredible Shrinking Student: Tell students to imagine they are shrinking down to the size of a molecule to take a journey inside a leaf.\n",
    "Use this to introduce the structures involved in photosynthesis.\"\"\"},\n",
    "\n",
    "    {\"role\": \"user\", \"content\": \"Create a lesson hook on Photosynthesis for grade 7\"},\n",
    "    {\"role\": \"assistant\", \"content\": \"\"\"Divide the class into teams, each representing a part of the photosynthesis process.\n",
    "Have them race to complete the process in the correct order.\"\"\"},\n",
    "\n",
    "    {\"role\": \"user\", \"content\": \"Create a lesson hook on Anantomy for grade 6\"},\n",
    "    {\"role\": \"assistant\", \"content\": \"\"\"\"Interview a Body Part\": Assign each student a specific body part or system.\n",
    "Have them create interview questions and then act out an interview with their assigned part, discussing its functions, challenges, and fun facts.\n",
    "\"\"\"},\n",
    "\n",
    "    {\"role\": \"user\", \"content\": \"Create a lesson hook on Ancient Civilizations for grade 7\"},\n",
    "    {\"role\": \"assistant\", \"content\": \"\"\"\"\"The Lost Civilization\": Students are archaeologists who have discovered a long-lost civilization.\n",
    "As they uncover artifacts and decipher ancient texts, they learn about the culture, achievements, and eventual decline of this mysterious society, inspiring a deep dive into ancient history.\n",
    "Question Hook: \"Why do some societies thrive while others collapse? Is it simply a matter of luck, or are there underlying patterns?\" This hook is ideal for a unit on the rise and fall of ancient civilizations.\n",
    "\"\"\"},\n",
    "    {\"role\": \"user\", \"content\": user_prompt}\n",
    "    ]\n"
   ]
  },
  {
   "cell_type": "code",
   "execution_count": 24,
   "metadata": {
    "id": "tMtVTl9lVLmA"
   },
   "outputs": [],
   "source": [
    "response = client.chat.completions.create(\n",
    "    model=deployment_name,\n",
    "    messages=messages,\n",
    "    n=2,# <- This will ask the model to present two choices for completion\n",
    "    temperature=0.8\n",
    ")"
   ]
  },
  {
   "cell_type": "code",
   "execution_count": 25,
   "metadata": {
    "colab": {
     "base_uri": "https://localhost:8080/"
    },
    "executionInfo": {
     "elapsed": 17,
     "status": "ok",
     "timestamp": 1713334484344,
     "user": {
      "displayName": "Sai Lohith Reddy Gummireddy",
      "userId": "15869979807103790771"
     },
     "user_tz": -330
    },
    "id": "vWVy_WgFVXpM",
    "outputId": "39a4c1ab-748b-4b1d-c1a6-467c6f16bce4"
   },
   "outputs": [
    {
     "name": "stdout",
     "output_type": "stream",
     "text": [
      "1. \"Egg Drop Challenge\": Begin by showing the students a raw egg and ask them if they think it will break if you drop it on the ground. Then, ask them what will happen if you drop an egg on a hard floor from a greater height. This will get students thinking about force and motion. Next, divide the class into groups and give them materials such as straws, paper, tape, and a plastic cup. Challenge the students to create a device that will protect the egg when dropped from a height. This activity will demonstrate Newton's third law of motion that for every action, there is an equal and opposite reaction.\n",
      "\n",
      "2. \"Balloon Rockets\": Inflate balloons and attach them to a string that is stretched across the classroom. Have students tape a straw to the balloon, attach a long piece of string to the straw, and hold the other end of the string. When the balloon is released, the air rushes out of the balloon in one direction, causing the balloon to move in the opposite direction. This activity will help students understand the concept of force and motion and how it relates to Newton's third law of motion.\n",
      "\n",
      "3. \"Tug of War\": Divide the class into two teams and set up a tug of war game. After a few rounds, have students discuss the forces they used to pull the rope. This will help them understand Newton's third law of motion, that every action has an equal and opposite reaction.\n",
      "\n",
      "4. \"Mentos and Soda\": Show the students a video of Mentos being dropped into a bottle of soda. Ask them what they think is happening and how it relates to Newton's third law of motion. Then, conduct a demonstration where students can drop Mentos into a bottle of soda and observe the reaction. This will help reinforce the concept of forces and motion.\n",
      "\n",
      "5. \"Bouncing Balls\": Show the students a variety of different types of balls and have them hypothesize which balls will bounce the highest. Then, have them drop the balls from the same height and measure the heights of the bounces. This will demonstrate how different forces can affect the motion of an object and how this relates to Newton's third law of motion.\n"
     ]
    }
   ],
   "source": [
    "print(response.choices[0].message.content)"
   ]
  },
  {
   "cell_type": "code",
   "execution_count": 26,
   "metadata": {
    "colab": {
     "base_uri": "https://localhost:8080/"
    },
    "executionInfo": {
     "elapsed": 14,
     "status": "ok",
     "timestamp": 1713334484344,
     "user": {
      "displayName": "Sai Lohith Reddy Gummireddy",
      "userId": "15869979807103790771"
     },
     "user_tz": -330
    },
    "id": "VRnLmsrjRrDU",
    "outputId": "5235bc41-f041-41b9-c6ae-1da04840c0b0"
   },
   "outputs": [
    {
     "name": "stdout",
     "output_type": "stream",
     "text": [
      "1. \"Newton's Third Law Dance-Off\": Start the lesson by playing upbeat music and inviting students to come up with their best dance moves. Have them dance in pairs or groups and explain that they will be learning about Newton's Third Law of Motion, which talks about the equal and opposite reactions that happen when two objects interact. Ask them to think about how their dance moves demonstrate this law.\n",
      "\n",
      "2. \"Marshmallow Catapult Challenge\": Bring in materials for students to make mini catapults using popsicle sticks, rubber bands, and spoons. Have them launch mini marshmallows and observe the equal and opposite forces at play. Ask them to think about how changing the force of the catapult or the weight of the marshmallow affects the reaction.\n",
      "\n",
      "3. \"Newton's Third Law of Motion in Sports\": Show clips of athletes in action, such as a basketball player shooting a ball or a football player tackling someone. Explain how Newton's Third Law of Motion applies to these actions, with the player exerting a force on the ball or other player, which then exerts an equal and opposite force back on them. Ask students to brainstorm other sports or activities where this law comes into play.\n",
      "\n",
      "4. \"Egg Drop Challenge\": Give each student a raw egg and a handful of materials, such as straws, cotton balls, and popsicle sticks. Challenge them to create a contraption that will protect their egg when dropped from a specified height. Have them explain how Newton's Third Law of Motion comes into play when their egg hits the ground.\n",
      "\n",
      "5. \"Crash Test Dummy\": Bring in a toy car or other vehicle and a ramp. Have students predict what will happen when the car is released from the top of the ramp and crashes into a wall or barrier. Explain how Newton's Third Law of Motion applies to the impact and ask students to observe the equal and opposite reactions.\n"
     ]
    }
   ],
   "source": [
    "print(response.choices[1].message.content)"
   ]
  },
  {
   "cell_type": "markdown",
   "metadata": {
    "id": "Pcgl5W23V4m4"
   },
   "source": [
    "The performance of few-shot prompting is tied to the examples provided in the prompt and also on the nature of the task. In this task, few-shot is not significantly better than zero-shot. Better examples could lead to better results.\n",
    "\n",
    "Using examples, you can drive guide the LLM's response in new directions. You can use as many examples as you wish, however, with each new example you are increasing the token consumption per API call which will lead to higher costs. The number of examples should be optimised by iteratively adding and removing examples and checking its effect on performance.\n",
    "\n",
    "Checking performance on a generation task can be challenging. In the next week, we will do the same exercise of optimising examples in a few-shot prompt for a classification task where it is easier to guage the performance."
   ]
  },
  {
   "cell_type": "markdown",
   "metadata": {
    "id": "VKJKYOZYWRx-"
   },
   "source": [
    "At the start, we said a lesson hook should have the following qualities.\n",
    "\n",
    "1. Grabbing Attention\n",
    "\n",
    "2. Generating Curiosity\n",
    "\n",
    "3. Creating Relevance\n",
    "\n",
    "4. Building Enthusiasm\n",
    "\n",
    "5. Establishing Connection\n",
    "\n",
    "We can use enforce these qualities in the llm's response by crafting a chain of thought prompt."
   ]
  },
  {
   "cell_type": "markdown",
   "metadata": {
    "id": "snC_DtwYzMIu"
   },
   "source": [
    "### 1.4 CoT"
   ]
  },
  {
   "cell_type": "code",
   "execution_count": 50,
   "metadata": {
    "id": "_n70Qo-AJdl9"
   },
   "outputs": [],
   "source": [
    "cot_prompt = \"\"\"\n",
    " Create an engaging lesson hooks for a topic for a given grade level classroom.\n",
    " The hooks should be designed to capture students' attention and interest at the start of the lesson.\n",
    " Consider the developmental needs and interests of students at this age when crafting the hooks.\n",
    "\n",
    "Below are 5 steps you need to follow to craft the lesson hook. At each step, you should check if any rewriting of the hook is necessary. \n",
    "If so, add or remove text to aligh with the step. At the end, you should give me a lesson hook that follows all the guidelines.\n",
    "At each step, evaluate if the current core of the hook is effective. \n",
    "If at any point you feel like the current hook is ineffective, you should restart crafting the hook with a new core idea.\n",
    "\n",
    "Step 1: Identify the lesson topic and key concepts\n",
    "- What is the main subject or theme of the lesson?\n",
    "- What are the most important ideas or skills students should learn?\n",
    "\n",
    "Step 2: Consider the students' interests, experiences, and prior knowledge\n",
    "- What do the students already know about this topic?\n",
    "- What aspects of the topic might the students find most interesting or relatable to their lives?\n",
    "- What current events, popular culture references, or real-world examples could help connect the lesson to the students' experiences?\n",
    "\n",
    "Step 3: Brainstorm attention-grabbing opening techniques\n",
    "- Could you start with a surprising fact, statistic, or statement related to the topic?\n",
    "- Is there a thought-provoking question you could pose to the students?\n",
    "- Could you present a mysterious or intriguing scenario that ties into the lesson?\n",
    "- Would a short, engaging story or anecdote help capture the students' attention?\n",
    "\n",
    "Step 4: Incorporate elements of curiosity and relevance\n",
    "- How can you frame the hook to make students curious to learn more about the topic?\n",
    "- What aspects of the hook will make the lesson feel relevant and meaningful to the students' lives or interests?\n",
    "- Could you hint at an exciting activity, demonstration, or revelation to come later in the lesson?\n",
    "\n",
    "\n",
    "At the end, evaluate all the ideas you have created and finally choose a single lesson hook that's best suited. \n",
    "Explain why it's the best lesson hook and then write the best lesson hook.\n",
    "\"\"\""
   ]
  },
  {
   "cell_type": "code",
   "execution_count": 51,
   "metadata": {
    "id": "QKOl6Oq7ZZLA"
   },
   "outputs": [],
   "source": [
    "user_prompt = \"Create a lesson hook for a lesson on newton's third law of motion for grade 8 students\""
   ]
  },
  {
   "cell_type": "code",
   "execution_count": 52,
   "metadata": {
    "id": "2jyZ9A4nZZLB"
   },
   "outputs": [],
   "source": [
    "messages = [\n",
    "    {\"role\": \"system\", \"content\": cot_prompt},\n",
    "    {\"role\": \"user\", \"content\": user_prompt}\n",
    "]"
   ]
  },
  {
   "cell_type": "code",
   "execution_count": 53,
   "metadata": {
    "id": "EX_nhZH6ZwjM"
   },
   "outputs": [],
   "source": [
    "response = client.chat.completions.create(\n",
    "    model=deployment_name,\n",
    "    messages=messages,\n",
    "    n=2,# <- This will ask the model to present two choices for completion\n",
    "    temperature=0.6\n",
    ")"
   ]
  },
  {
   "cell_type": "code",
   "execution_count": 54,
   "metadata": {
    "colab": {
     "base_uri": "https://localhost:8080/"
    },
    "executionInfo": {
     "elapsed": 36,
     "status": "ok",
     "timestamp": 1713336889449,
     "user": {
      "displayName": "Sai Lohith Reddy Gummireddy",
      "userId": "15869979807103790771"
     },
     "user_tz": -330
    },
    "id": "t21yns0wZ2PX",
    "outputId": "d9387b71-cbb8-4c50-b098-be386e5d93ee"
   },
   "outputs": [
    {
     "name": "stdout",
     "output_type": "stream",
     "text": [
      "Step 1: \n",
      "- Lesson topic: Newton's Third Law of Motion\n",
      "- Key concepts: Action and reaction forces, equal and opposite forces, force pairs\n",
      "\n",
      "Step 2: \n",
      "- Students may have prior knowledge of Newton's Laws of Motion but may not be familiar with the third law specifically.\n",
      "- Students may find it interesting to learn that every action has an equal and opposite reaction.\n",
      "- Real-world examples such as bouncing balls, rockets launching, and car crashes could help connect the lesson to the students' experiences.\n",
      "\n",
      "Step 3: \n",
      "- Start with a demonstration of a balloon rocket. Inflate a balloon and tape it to a straw. Thread a long string through the straw and hold each end of the string. When the balloon is released, it will move forward, demonstrating Newton's Third Law of Motion.\n",
      "- Pose a thought-provoking question such as \"Have you ever wondered why you feel a push back when you push something forward?\"\n",
      "- Share an engaging story or anecdote about a famous scientist who discovered the law.\n",
      "\n",
      "Step 4: \n",
      "- Frame the hook by emphasizing that Newton's Third Law of Motion is important because it helps explain how forces work in the world around us.\n",
      "- Help students see the relevance of the lesson by connecting it to real-world examples such as sports, transportation, and engineering.\n",
      "- Hint at an exciting activity to come later in the lesson, such as building and launching a balloon rocket.\n",
      "\n",
      "The best lesson hook for this topic is to start with a demonstration of a balloon rocket. Inflate a balloon and tape it to a straw. Thread a long string through the straw and hold each end of the string. When the balloon is released, it will move forward, demonstrating Newton's Third Law of Motion. This hook is effective because it is a visual and hands-on demonstration that captures students' attention and curiosity. It also sets the stage for the lesson by introducing the concept of equal and opposite forces in a memorable way. Additionally, it hints at an exciting activity to come later in the lesson, which builds anticipation and engagement.\n"
     ]
    }
   ],
   "source": [
    "print(response.choices[0].message.content)"
   ]
  },
  {
   "cell_type": "code",
   "execution_count": 55,
   "metadata": {
    "id": "bevtlvLtkT0V"
   },
   "outputs": [
    {
     "name": "stdout",
     "output_type": "stream",
     "text": [
      "Step 1: \n",
      "- The main subject of the lesson is Newton's Third Law of Motion.\n",
      "- The key concepts are action and reaction forces, and how they are equal in magnitude and opposite in direction.\n",
      "\n",
      "Step 2:\n",
      "- The students may already have some knowledge of Newton's laws of motion from previous science classes.\n",
      "- Students may find it interesting to learn how everyday actions involve Newton's Third Law, such as jumping on a trampoline or hitting a ball with a bat.\n",
      "- Popular culture references, such as superhero movies, may help connect the lesson to the students' experiences.\n",
      "\n",
      "Step 3:\n",
      "- Start with a demonstration: drop two objects of different weights and ask students which one will hit the ground first. Then, drop them at the same time and ask if the result was expected. Explain that the reason both objects hit the ground at the same time is due to Newton's Third Law.\n",
      "- Ask students to stand up and try to push against a wall. Then ask them to push against a partner and see what happens. Explain that this is an example of action and reaction forces.\n",
      "- Pose a thought-provoking question: \"If you were on a skateboard and you pushed against a wall, would the wall push back on you with the same force?\" \n",
      "\n",
      "Step 4:\n",
      "- Frame the hook to make students curious to learn more about the topic by emphasizing that Newton's Third Law is all around us and affects everything we do.\n",
      "- Make the hook relevant and meaningful by showing how understanding this law can help students in sports or other physical activities.\n",
      "- Hint at an exciting activity: tell students that they will be building and testing their own balloon-powered cars later in the lesson, and that understanding Newton's Third Law is crucial to making them work.\n",
      "\n",
      "The best lesson hook for a lesson on Newton's Third Law of Motion for grade 8 students is to start with a demonstration: drop two objects of different weights and ask students which one will hit the ground first. Then, drop them at the same time and ask if the result was expected. Explain that the reason both objects hit the ground at the same time is due to Newton's Third Law. This hook is effective because it captures students' attention with a surprising result, connects to their prior knowledge of Newton's laws of motion, and hints at an exciting activity to come later in the lesson.\n"
     ]
    }
   ],
   "source": [
    "print(response.choices[1].message.content)"
   ]
  },
  {
   "cell_type": "markdown",
   "metadata": {
    "id": "WEY9C3XXbaA0"
   },
   "source": [
    "We got lesson hooks that are more comprehensive but not necessarily better solution for teachers. The developer should work with teachers to understand whether they prefer a collection creative hooks to choose from for or a single lesson hook that is more comprehensive. Teacher input should guide you towards the right prompting technique. You can once again experiment with parameters to find the best combination. As we have said earlier, prompting is an interative excersice."
   ]
  },
  {
   "cell_type": "markdown",
   "metadata": {
    "id": "nKRYyJE8mJgl"
   },
   "source": [
    "## 2 Crafting Examples"
   ]
  },
  {
   "cell_type": "markdown",
   "metadata": {
    "id": "tDRiM0PVlAVy"
   },
   "source": [
    "The lesson hook engages the students and makes the class exciting and interactive. However, we also need to provide ample amount of examples to make the learning relevant to the real world.\n",
    "\n",
    "Teachers often do not have the time to brainstorm real world examples. LLMs are of great help here. A list of examples can also be provided as additional material for the students. "
   ]
  },
  {
   "cell_type": "markdown",
   "metadata": {
    "id": "QsIyyZPimM6y"
   },
   "source": [
    "\n",
    "\n",
    "---\n",
    "\n",
    "\n",
    "What do you think is a sufficient prompting technique to craft examples for a topic?\n",
    "\n",
    "\n",
    "---\n",
    "\n",
    "\n",
    "While it's often observed that Chain of though (COT) and Few-Shot prompting tend to yield superior results compared to Zero-Shot Learning, it's important to note their token-intensive nature, which invariably leads to higher costs. For companies like Khanmigo, operating on a subscription-based revenue model, mitigating such expenses is crucial. In instances where Zero-Shot Learning demonstrates comparable performance, it should be the preferred option.\n",
    "\n",
    "In the context of crafting examples, Zero-Shot prompting stands out as an apt choice.\n",
    "\n",
    "However, give that this has a creative element to it, what do you think should be the temperature, top-k, top-p should be for this exercise? High or Low ?"
   ]
  },
  {
   "cell_type": "markdown",
   "metadata": {
    "id": "8urtKU7EzTyT"
   },
   "source": [
    "### 2.1 Zero Shot"
   ]
  },
  {
   "cell_type": "code",
   "execution_count": 60,
   "metadata": {
    "id": "wX8WnX1SpL02"
   },
   "outputs": [],
   "source": [
    "poem_prompt = \"\"\"Write 10 examples for the following lesson material. Add a brief explanation of the example.\n",
    "The lesson material is:\n",
    "\n",
    "{material}\n",
    "\n",
    "\"\"\""
   ]
  },
  {
   "cell_type": "code",
   "execution_count": 61,
   "metadata": {
    "id": "SqPVNUh_s-Ij"
   },
   "outputs": [],
   "source": [
    "user_input = \"\"\"\n",
    "**Lesson Material:**\n",
    "\n",
    "Title: Understanding Newton's Third Law: Action and Reaction\n",
    "\n",
    "**Objective:**\n",
    "By the end of this lesson, students will be able to:\n",
    "\n",
    "1. Define Newton's Third Law of Motion.\n",
    "2. Identify action and reaction force pairs in various scenarios.\n",
    "3. Explain real-life applications of Newton's Third Law.\n",
    "\n",
    "**Body:**\n",
    "\n",
    "**1. What is Newton's Third Law?**\n",
    "   - Explain that Newton's Third Law states: \"For every action, there is an equal and opposite reaction.\"\n",
    "   - Break down the meaning of this law: when one object exerts a force on a second object, the second object exerts a force of equal magnitude in the opposite direction on the first object.\n",
    "\n",
    "**2. Action and Reaction Pairs:**\n",
    "   - Provide examples and ask students to identify the action and reaction force pairs in each scenario. Examples could include:\n",
    "     - A person pushing against a wall.\n",
    "     - A ball bouncing off the ground.\n",
    "     - A swimmer pushing against the water.\n",
    "   - Encourage students to think about the forces involved and how they act on different objects.\n",
    "\n",
    "**3. Real-Life Applications:**\n",
    "   - Discuss real-life examples where Newton's Third Law is at play, such as:\n",
    "     - Rocket propulsion: The action force is the expulsion of gas from the rocket engines, and the reaction force is the resulting upward movement of the rocket.\n",
    "     - Walking: Each step involves pushing against the ground, which pushes back with an equal force, propelling the person forward.\n",
    "     - Driving a car: The tires push against the road, and the road pushes back, propelling the car forward.\n",
    "   - Encourage students to brainstorm other examples they encounter in daily life.\n",
    "   \n",
    "\"\"\""
   ]
  },
  {
   "cell_type": "code",
   "execution_count": 62,
   "metadata": {
    "id": "oTcwH35wpL0_"
   },
   "outputs": [],
   "source": [
    "response = client.chat.completions.create(\n",
    "    messages = [{\"role\": \"user\", \"content\": poem_prompt.format(material = user_input)}],\n",
    "    model = deployment_name,\n",
    "    max_tokens=1000,\n",
    "    temperature=0.8\n",
    ")"
   ]
  },
  {
   "cell_type": "code",
   "execution_count": 63,
   "metadata": {
    "colab": {
     "base_uri": "https://localhost:8080/"
    },
    "executionInfo": {
     "elapsed": 7,
     "status": "ok",
     "timestamp": 1713269982388,
     "user": {
      "displayName": "Sai Lohith Reddy Gummireddy",
      "userId": "15869979807103790771"
     },
     "user_tz": -330
    },
    "id": "m803MGmwpL0_",
    "outputId": "47f0d880-1dae-423f-dc0b-1f957785e25c"
   },
   "outputs": [
    {
     "name": "stdout",
     "output_type": "stream",
     "text": [
      "1. Example: When a soccer player kicks a ball, the ball moves forward with a certain force. In turn, the player's foot experiences an equal and opposite force, pushing back against the foot.\n",
      "Explanation: This example illustrates Newton's Third Law by showing how the action of kicking the ball creates a reaction force in the opposite direction.\n",
      "\n",
      "2. Example: A person sitting on a chair exerts a force downward on the chair, while the chair exerts an equal and opposite force upward on the person.\n",
      "Explanation: This example demonstrates how action and reaction force pairs work in everyday life and helps students identify these pairs.\n",
      "\n",
      "3. Example: When a person jumps off a diving board, they push down against the board, which then pushes back up with an equal and opposite force.\n",
      "Explanation: This example shows how the force exerted by the person jumping creates a reaction force that propels them upward.\n",
      "\n",
      "4. Example: When a car collides with a wall, the car exerts a force on the wall, while the wall exerts an equal and opposite force on the car.\n",
      "Explanation: This example illustrates how action and reaction force pairs work in collisions and helps students understand the importance of safety features in cars.\n",
      "\n",
      "5. Example: When a person throws a frisbee, the force of the throw creates a reaction force that propels the frisbee forward.\n",
      "Explanation: This example shows how Newton's Third Law applies to sports and helps students see how forces create motion.\n",
      "\n",
      "6. Example: When a bird flaps its wings, it creates a force that propels it forward, while the air exerts an equal and opposite force that helps keep the bird aloft.\n",
      "Explanation: This example shows how animals use Newton's Third Law in nature and helps students understand the concept of lift.\n",
      "\n",
      "7. Example: When a rocket launches, the action force is the expulsion of gas from the engines, while the reaction force is the upward movement of the rocket.\n",
      "Explanation: This example is a classic demonstration of Newton's Third Law and helps students understand the science behind space travel.\n",
      "\n",
      "8. Example: When a person runs, their foot exerts a force on the ground, while the ground exerts an equal and opposite force back on the foot.\n",
      "Explanation: This example shows how everyday activities like running involve action and reaction force pairs.\n",
      "\n",
      "9. Example: When a person hits a nail with a hammer, the hammer exerts a force on the nail, while the nail exerts an equal and opposite force back on the hammer.\n",
      "Explanation: This example shows how tools work using Newton's Third Law and helps students understand the science behind simple machines.\n",
      "\n",
      "10. Example: When a boat moves through water, the action force is the propelling force of the boat's engine, while the reaction force is the movement of the water in the opposite direction.\n",
      "Explanation: This example shows how forces work on different types of objects and helps students see how Newton's Third Law applies to fluid dynamics.\n"
     ]
    }
   ],
   "source": [
    "print(response.choices[0].message.content)"
   ]
  },
  {
   "cell_type": "markdown",
   "metadata": {
    "id": "_Iamq4Y5nYVJ"
   },
   "source": [
    "These are nice examples but they are very common ones. The teacher can come up with such examples themselves. Let's try to get examples that are uncommon. One way to do that is by making the LLM chose uncommon words at each step. Let's set the top-p high so that the model choses new low probabilty words as well."
   ]
  },
  {
   "cell_type": "markdown",
   "metadata": {
    "id": "dvHZ6wlQzgDx"
   },
   "source": [
    "### 2.2 Top p"
   ]
  },
  {
   "cell_type": "code",
   "execution_count": 64,
   "metadata": {
    "id": "An2M4KVA22zI"
   },
   "outputs": [],
   "source": [
    "response = client.chat.completions.create(\n",
    "    messages = [{\"role\": \"user\", \"content\": poem_prompt.format(material = user_input)}],\n",
    "    model = deployment_name,\n",
    "    max_tokens=1000,\n",
    "    temperature=0.95,\n",
    "    top_p = 0.6\n",
    ")"
   ]
  },
  {
   "cell_type": "code",
   "execution_count": 65,
   "metadata": {
    "colab": {
     "base_uri": "https://localhost:8080/"
    },
    "executionInfo": {
     "elapsed": 688,
     "status": "ok",
     "timestamp": 1713270934349,
     "user": {
      "displayName": "Sai Lohith Reddy Gummireddy",
      "userId": "15869979807103790771"
     },
     "user_tz": -330
    },
    "id": "7We0nFgx5xSQ",
    "outputId": "66677355-3e45-4d0f-bcf6-5ff12ffd1e19"
   },
   "outputs": [
    {
     "name": "stdout",
     "output_type": "stream",
     "text": [
      "1. When a person jumps off a diving board, the force of their jump is the action force, and the reaction force is the force of the diving board pushing back up on the person.\n",
      "2. When a hammer strikes a nail, the action force is the force of the hammer hitting the nail, and the reaction force is the force of the nail pushing back up on the hammer.\n",
      "3. When a person pulls on a rope, the action force is the force of the person pulling on the rope, and the reaction force is the force of the rope pulling back on the person.\n",
      "4. When a bird flaps its wings, the action force is the force of the bird pushing down on the air, and the reaction force is the force of the air pushing up on the bird.\n",
      "5. When a car crashes into a wall, the action force is the force of the car hitting the wall, and the reaction force is the force of the wall pushing back on the car.\n",
      "6. When a person walks on the ground, the action force is the force of the person's foot pushing against the ground, and the reaction force is the force of the ground pushing back on the person's foot.\n",
      "7. When a boat moves through water, the action force is the force of the boat pushing against the water, and the reaction force is the force of the water pushing back on the boat.\n",
      "8. When a person jumps on a trampoline, the action force is the force of the person jumping on the trampoline, and the reaction force is the force of the trampoline pushing back up on the person.\n",
      "9. When a person sits in a chair, the action force is the force of the person sitting on the chair, and the reaction force is the force of the chair pushing back up on the person.\n",
      "10. When a tennis player hits a ball, the action force is the force of the racket hitting the ball, and the reaction force is the force of the ball pushing back on the racket.\n"
     ]
    }
   ],
   "source": [
    "print(response.choices[0].message.content)"
   ]
  },
  {
   "cell_type": "markdown",
   "metadata": {
    "id": "FQ8qWyFe3Vn3"
   },
   "source": [
    "Good! However, we might want to use newer contexts to make it novel. So increasing one of frequency penalty and presence penaltys should do the trick. (Changing the prompt will also works here. But let's see how frequency penalty individually affects the response.)\n",
    "\n",
    "presence_penalty: Optional - Number between -2.0 and 2.0. - Defaults to 0\n",
    "Positive values penalize new tokens based on whether they appear in the text so far, increasing the model's likelihood to talk about new topics.\n",
    "\n",
    "frequency_penalty - Optional - Number between -2.0 and 2.0. - Defaults to 0\n",
    "Positive values penalize new tokens based on their existing frequency in the text so far, decreasing the model's likelihood to repeat the same line verbatim.\n",
    "\n",
    "Let's set the frequency penalty high so that we get new words."
   ]
  },
  {
   "cell_type": "markdown",
   "metadata": {
    "id": "QqK0gVYJzaO1"
   },
   "source": [
    "### 2.3 Penalties"
   ]
  },
  {
   "cell_type": "code",
   "execution_count": 66,
   "metadata": {
    "id": "J78mOsK85rlR"
   },
   "outputs": [],
   "source": [
    "response = client.chat.completions.create(\n",
    "    messages = [{\"role\": \"user\", \"content\": poem_prompt.format(material = user_input)}],\n",
    "    model = deployment_name,\n",
    "    max_tokens=1000,\n",
    "    temperature=0.95,\n",
    "    frequency_penalty = 1.5\n",
    ")"
   ]
  },
  {
   "cell_type": "code",
   "execution_count": 67,
   "metadata": {
    "colab": {
     "base_uri": "https://localhost:8080/"
    },
    "executionInfo": {
     "elapsed": 5,
     "status": "ok",
     "timestamp": 1713271236850,
     "user": {
      "displayName": "Sai Lohith Reddy Gummireddy",
      "userId": "15869979807103790771"
     },
     "user_tz": -330
    },
    "id": "HInVvgPu67x4",
    "outputId": "cbc333d2-1734-4530-8eaa-4ab696510b54"
   },
   "outputs": [
    {
     "name": "stdout",
     "output_type": "stream",
     "text": [
      "1. When a person throws a ball, the ball exerts an equal and opposite force back on the person's hand.\n",
      "2. When a bird flaps its wings, it creates an action force that propels air downwards, creating a reaction force that lifts the bird upwards.\n",
      "3. When a swimmer dives into water, they exert an action force on the water which creates a reaction force that propels them forward.\n",
      "4. A stuffed animal lying on top of another stuffed animal will exert weight and cause the bottom stuffed animal to press upward with equal pressure known as buoyancy or flotation.\n",
      "5. Jumping off from trampolines: The trampoline mat gets depressed because of your weight which in turn pushes you in higher direction with equal energy causing you to jump up again.\n",
      "6. Playing soccer: kicking motion is actually pushing against the ground backward while making contact with football balls pushing forward towards goal post causing balance in motions ).\n",
      "7.The recoil energy from firing guns leads to Newton’s Third Law where there is anti-kickback (although opposite but same magnitude) guiding  bullets through barrel and fired out for long-range shooting( like sniping).\n",
      "8.Astronaut floating in space holding flashlight shining towards planet side will cause opposite momentum acting back without any proper floor grounding .\n",
      "9.Ironman flying through air using his palm jets sends down impulsive thrust realizing upward propulsion balancing himself within air ,\n",
      "10.Crashing cars lead to Newton’s Third Law being enacted as well - The car drivers feel like they are pushed backward because their seat belts pull them forward (action-reaction principle).\n"
     ]
    }
   ],
   "source": [
    "print(response.choices[0].message.content)"
   ]
  },
  {
   "cell_type": "markdown",
   "metadata": {
    "id": "Lxsa8SPh-RBb"
   },
   "source": [
    "Slight Improvement. Let's also change the prompt. "
   ]
  },
  {
   "cell_type": "code",
   "execution_count": 68,
   "metadata": {},
   "outputs": [],
   "source": [
    "poem_prompt = \"\"\"Write 10 uncommon examples for the following lesson material. \n",
    "Add a brief explanation of the example.\n",
    "The lesson material is:\n",
    "\n",
    "{material}\n",
    "\n",
    "\"\"\""
   ]
  },
  {
   "cell_type": "code",
   "execution_count": 69,
   "metadata": {},
   "outputs": [],
   "source": [
    "response = client.chat.completions.create(\n",
    "    messages = [{\"role\": \"user\", \"content\": poem_prompt.format(material = user_input)}],\n",
    "    model = deployment_name,\n",
    "    max_tokens=1000,\n",
    "    temperature=0.95,\n",
    "    frequency_penalty = 1.5\n",
    ")"
   ]
  },
  {
   "cell_type": "code",
   "execution_count": 70,
   "metadata": {},
   "outputs": [
    {
     "name": "stdout",
     "output_type": "stream",
     "text": [
      "1. A car crashing into a wall: The action force is the car's forward momentum, and the reaction force is the impact of the collision that pushes back on the car.\n",
      "2. Jumping on a trampoline: The action force comes from jumping down onto the trampoline, and the reaction force propels you back upwards.\n",
      "3. Swinging a bat: The action force comes from swinging the bat towards an object, and when contact is made, there is an equal but opposite reaction as felt by your hands.\n",
      "4. Launching fireworks: The explosive chemicals inside create an action force pushing outwards in all directions which results in various visual effects (reaction forces), such as colorful explosions or shooting stars across sky.\n",
      "5. Kicking a football/punching bag/etc.: Every time one kicks or hits something rotating their hips/body sideways creating torsion spring like effect helping produce maximum speed & power transfer to ball/bag/other object while also experiencing reactionary forces - preventing them from falling over during kick/punch follow throughs\n",
      "6. Rock climbing: When climbing up rocks/mountains person exerts upward push/squeezes against rock face to move upwards means exertion of acts generally referred to as \"action\" representing energy input whereas downward weight bearing causes horizontal displacement resulting \"reaction.\"\n",
      "7. Rowing/paddling boats/kayaks etc.: When using paddles/oars for propulsion it creates forward linear motion with each stroke involving two distinct phases--drive phase where we pull paddle/oar backward then recovery phase bringing it back forwards involves both actions/reactions reflected in bio-mechanical shifts body position (as well boat balance) necessary during cycling between those two phases for optimal efficiency/maximizing speed/current control.\n",
      "8.Blow drying hair/airplane turbines/hovercrafts etc.: Involves moving air molecules around rapidly creates pressure differences affecting flow velocity leads generation lift/power output aka consequences/outcomes \"reactions\" arising due application initiating work done i.e heat/contact-driven blowing service/-lift-pushing mechanisms respectively\n",
      "9.Sport like surfing/bodyboarding/windsurfing : Riding waves involves interaction waves forces acting upon surfer/board requires understanding tides/surroundings forming landscape whereby different directional vectors beget variety ratings categorized going against opposing natural water volume displacements hand wave-based factors composing type/timing ultimately requiring execution skills based knowledge practice along wayside experimentation decoding opportunities maximizing performance traits achieving feats possible within scope available forecast period tide cycle present location safety limits factor plenty methods employed trying assimilating said environmental triggers long term neural development prioritizing focus surf-related learning curves \n",
      "10.Climbing stairs using crutches/wheelchair/etc.: Mobility assist equipment involve utilization lever arms capable impacting surfaces below user increasing upward/downward movement potential driving obtaining accurate estimates performed breaking down task levels details leads better understanding load transference encouraging self improvement possibilities if strength grows weary alleviate pain often associated prolonged use/support systems commonly incorporated such diverse aid devices mentioned earlier ensure sustained optimization object manipulation improving accessibility overall quality life experiences achieved throughout adventure times everyday living circumstances\n"
     ]
    }
   ],
   "source": [
    "print(response.choices[0].message.content)"
   ]
  },
  {
   "cell_type": "markdown",
   "metadata": {
    "id": "Nh3S8NW88MD3"
   },
   "source": [
    "## 3 Automating Quizzes"
   ]
  },
  {
   "cell_type": "markdown",
   "metadata": {
    "id": "4hMzl2wP7vUn"
   },
   "source": [
    "\n",
    "\n",
    "\n",
    "---\n",
    "\n",
    "\n",
    "Once the lesson is taught, the subsequent task for a teacher involves crafting a test to assess students' retention. Generating quizzes can be a tedious endeavor. Let's leverage Language Models to automate the quiz creation process.\n",
    "\n",
    "\n",
    "---\n",
    "\n"
   ]
  },
  {
   "cell_type": "markdown",
   "metadata": {
    "id": "mchZuOnUFaSJ"
   },
   "source": [
    "### 3.1 Zero_shot"
   ]
  },
  {
   "cell_type": "code",
   "execution_count": null,
   "metadata": {
    "id": "wfhjzszsDqUb"
   },
   "outputs": [],
   "source": [
    "quiz_input = \"\"\"Task: Generate a mcq quiz on the teaching material mentioned above\n",
    "\n",
    "\n",
    "Output Format:\n",
    "Use the following format for each question:\n",
    "\n",
    "Question: [QUESTION TEXT]\n",
    "Options:\n",
    "a) [OPTION A]\n",
    "b) [OPTION B]\n",
    "c) [OPTION C]\n",
    "d) [OPTION D]\n",
    "\n",
    "Correct option: [Correct Option]\n",
    "\n",
    "Incorrect Answers:\n",
    "a) [EXPLANATION FOR OPTION A BEING INCORRECT]\n",
    "b) [EXPLANATION FOR OPTION B BEING INCORRECT]\n",
    "c) [EXPLANATION FOR OPTION C BEING INCORRECT]\n",
    "d) [EXPLANATION FOR OPTION D BEING INCORRECT]\n",
    "\n",
    "\"\"\""
   ]
  },
  {
   "cell_type": "code",
   "execution_count": null,
   "metadata": {
    "id": "3NlAQye3DqU7"
   },
   "outputs": [],
   "source": [
    "user_input = \"\"\"\n",
    "**Lesson Material:**\n",
    "\n",
    "\n",
    "Title: Understanding Newton's Third Law: Action and Reaction\n",
    "\n",
    "**Objective:**\n",
    "By the end of this lesson, students will be able to:\n",
    "\n",
    "1. Define Newton's Third Law of Motion.\n",
    "2. Identify action and reaction force pairs in various scenarios.\n",
    "3. Explain real-life applications of Newton's Third Law.\n",
    "\n",
    "**Body:**\n",
    "\n",
    "**1. What is Newton's Third Law?**\n",
    "   - Explain that Newton's Third Law states: \"For every action, there is an equal and opposite reaction.\"\n",
    "   - Break down the meaning of this law: when one object exerts a force on a second object, the second object exerts a force of equal magnitude in the opposite direction on the first object.\n",
    "\n",
    "**2. Action and Reaction Pairs:**\n",
    "   - Provide examples and ask students to identify the action and reaction force pairs in each scenario. Examples could include:\n",
    "     - A person pushing against a wall.\n",
    "     - A ball bouncing off the ground.\n",
    "     - A swimmer pushing against the water.\n",
    "   - Encourage students to think about the forces involved and how they act on different objects.\n",
    "\n",
    "**3. Real-Life Applications:**\n",
    "   - Discuss real-life examples where Newton's Third Law is at play, such as:\n",
    "     - Rocket propulsion: The action force is the expulsion of gas from the rocket engines, and the reaction force is the resulting upward movement of the rocket.\n",
    "     - Walking: Each step involves pushing against the ground, which pushes back with an equal force, propelling the person forward.\n",
    "     - Driving a car: The tires push against the road, and the road pushes back, propelling the car forward.\n",
    "   - Encourage students to brainstorm other examples they encounter in daily life.\n",
    "   \n",
    "**Conclusion:**\n",
    "Review the key points of the lesson:\n",
    "- Newton's Third Law states that for every action, there is an equal and opposite reaction.\n",
    "- Action and reaction force pairs exist in all interactions between objects.\n",
    "- Understanding Newton's Third Law helps us explain and predict motion in the world around us.\n",
    "\"\"\""
   ]
  },
  {
   "cell_type": "code",
   "execution_count": null,
   "metadata": {
    "id": "UX2uDBZdDqU9"
   },
   "outputs": [],
   "source": [
    "messages = [{\"role\":\"user\",\"content\":user_input+quiz_input}]"
   ]
  },
  {
   "cell_type": "code",
   "execution_count": null,
   "metadata": {
    "id": "KIPyxmgUDqU9"
   },
   "outputs": [],
   "source": [
    "response = client.chat.completions.create(\n",
    "    messages = messages,\n",
    "    model = deployment_name,\n",
    "    max_tokens=1000,\n",
    "    temperature=0.2\n",
    ")"
   ]
  },
  {
   "cell_type": "code",
   "execution_count": null,
   "metadata": {
    "colab": {
     "base_uri": "https://localhost:8080/"
    },
    "executionInfo": {
     "elapsed": 6,
     "status": "ok",
     "timestamp": 1713349291532,
     "user": {
      "displayName": "Sai Lohith Reddy Gummireddy",
      "userId": "15869979807103790771"
     },
     "user_tz": -330
    },
    "id": "AWVwysvKDqU-",
    "outputId": "91da5d3a-f46f-4613-dae2-f972da95bc14"
   },
   "outputs": [
    {
     "name": "stdout",
     "output_type": "stream",
     "text": [
      "Question: Where was Christopher Columbus born?\n",
      "Options:\n",
      "a) Madrid, Spain\n",
      "b) Genoa, Italy\n",
      "c) Paris, France\n",
      "d) London, England\n",
      "\n",
      "Correct option: b) Genoa, Italy\n",
      "\n",
      "Incorrect Answers:\n",
      "a) Madrid is the capital of Spain, not the birthplace of Columbus.\n",
      "c) Paris is the capital of France, not the birthplace of Columbus.\n",
      "d) London is the capital of England, not the birthplace of Columbus.\n",
      "\n",
      "Question: What was Columbus's goal in sailing west across the Atlantic Ocean?\n",
      "Options:\n",
      "a) To find a faster route to Africa\n",
      "b) To find a faster route to Asia\n",
      "c) To find a faster route to South America\n",
      "d) To find a faster route to Australia\n",
      "\n",
      "Correct option: b) To find a faster route to Asia\n",
      "\n",
      "Incorrect Answers:\n",
      "a) Columbus was not seeking a faster route to Africa.\n",
      "c) Columbus did not know about South America at the time of his voyages.\n",
      "d) Columbus was not seeking a route to Australia.\n",
      "\n",
      "Question: Who funded Columbus's voyage in 1492?\n",
      "Options:\n",
      "a) King Henry VIII of England\n",
      "b) Queen Elizabeth I of England\n",
      "c) Queen Isabella and King Ferdinand of Spain\n",
      "d) King Louis XIV of France\n",
      "\n",
      "Correct option: c) Queen Isabella and King Ferdinand of Spain\n",
      "\n",
      "Incorrect Answers:\n",
      "a) King Henry VIII was not ruling England in 1492.\n",
      "b) Queen Elizabeth I was not ruling England in 1492.\n",
      "d) King Louis XIV was not ruling France in 1492.\n",
      "\n",
      "Question: What did Columbus call the indigenous people he encountered in the Americas?\n",
      "Options:\n",
      "a) Natives\n",
      "b) Americans\n",
      "c) Indians\n",
      "d) Africans\n",
      "\n",
      "Correct option: c) Indians\n",
      "\n",
      "Incorrect Answers:\n",
      "a) Columbus did not use the term \"natives\" to refer to the indigenous people.\n",
      "b) The term \"Americans\" did not exist at the time of Columbus's voyages.\n",
      "d) Columbus did not mistake the indigenous people for Africans.\n",
      "\n",
      "Question: How many voyages did Columbus make to the Caribbean and Central America?\n",
      "Options:\n",
      "a) Two\n",
      "b) Three\n",
      "c) Four\n",
      "d) Five\n",
      "\n",
      "Correct option: c) Four\n",
      "\n",
      "Incorrect Answers:\n",
      "a) Columbus made more than two voyages.\n",
      "b) Columbus made more than three voyages.\n",
      "d) Columbus made fewer than five voyages.\n",
      "\n",
      "Question: What were some of the negative consequences of Columbus's arrival in the Americas?\n",
      "Options:\n",
      "a) Spread of disease\n",
      "b) Forced labor\n",
      "c) Violence\n",
      "d) All of the above\n",
      "\n",
      "Correct option: d) All of the above\n",
      "\n",
      "Incorrect Answers:\n",
      "a) The spread of disease was one of the negative consequences, but not the only one.\n",
      "b) Forced labor was one of the negative consequences, but not the only one.\n",
      "c) Violence was one of the negative consequences, but not the only one.\n"
     ]
    }
   ],
   "source": [
    "print(response.choices[0].message.content)"
   ]
  },
  {
   "cell_type": "markdown",
   "metadata": {
    "id": "nEdvie_lFeLR"
   },
   "source": [
    "### 3.2 COT"
   ]
  },
  {
   "cell_type": "markdown",
   "metadata": {
    "id": "2-TslOpn-VDk"
   },
   "source": [
    "Let's try COT with this exercise. We would expect COT to perform better."
   ]
  },
  {
   "cell_type": "code",
   "execution_count": null,
   "metadata": {
    "id": "Xp6wfHcf_U4B"
   },
   "outputs": [],
   "source": [
    "quiz_input = \"\"\"Task: Generate a quiz on the teaching material mentioned above with the following specifications:\n",
    "\n",
    "First:\n",
    "- Understand the key concepts related to teaching material\n",
    "- Identify the components/elements of teaching material\n",
    "- Apply the principles of teaching material to solve problems\n",
    "\n",
    "Question Format:\n",
    "- Generate 10 multiple-choice questions with 4 options each\n",
    "- Ensure questions are clear, concise, and test only one concept/skill\n",
    "- Avoid ambiguity or tricky language in the questions and options\n",
    "\n",
    "Options:\n",
    "- Include relevant and plausible distractors (incorrect options)\n",
    "- Vary the length of options to prevent unintentional hints\n",
    "- Randomize the order of options for each question\n",
    "\n",
    "Explanations:\n",
    "- Provide a detailed explanation for the correct answer, including additional context, examples, or reinforcement of understanding\n",
    "- For each incorrect option, explain why it is incorrect and address any potential misconceptions or errors in thinking\n",
    "\n",
    "Output Format:\n",
    "Use the following format for each question:\n",
    "\n",
    "Question: [QUESTION TEXT]\n",
    "Options:\n",
    "a) [OPTION A]\n",
    "b) [OPTION B]\n",
    "c) [OPTION C]\n",
    "d) [OPTION D]\n",
    "\n",
    "Explanation:\n",
    "[EXPLANATION FOR CORRECT ANSWER]\n",
    "\n",
    "Incorrect Answers:\n",
    "a) [EXPLANATION FOR OPTION A BEING CORRECT/INCORRECT]\n",
    "b) [EXPLANATION FOR OPTION B BEING CORRECT/INCORRECT]\n",
    "c) [EXPLANATION FOR OPTION C BEING CORRECT/INCORRECT]\n",
    "d) [EXPLANATION FOR OPTION D BEING CORRECT/INCORRECT]\n",
    "\n",
    "Think step by step\"\"\""
   ]
  },
  {
   "cell_type": "code",
   "execution_count": null,
   "metadata": {
    "id": "lSF3UlPo7FFO"
   },
   "outputs": [],
   "source": [
    "user_input = \"\"\"\n",
    "**Lesson Material:**\n",
    "\n",
    "\n",
    "Title: Understanding Newton's Third Law: Action and Reaction\n",
    "\n",
    "**Objective:**\n",
    "By the end of this lesson, students will be able to:\n",
    "\n",
    "1. Define Newton's Third Law of Motion.\n",
    "2. Identify action and reaction force pairs in various scenarios.\n",
    "3. Explain real-life applications of Newton's Third Law.\n",
    "\n",
    "**Body:**\n",
    "\n",
    "**1. What is Newton's Third Law?**\n",
    "   - Explain that Newton's Third Law states: \"For every action, there is an equal and opposite reaction.\"\n",
    "   - Break down the meaning of this law: when one object exerts a force on a second object, the second object exerts a force of equal magnitude in the opposite direction on the first object.\n",
    "\n",
    "**2. Action and Reaction Pairs:**\n",
    "   - Provide examples and ask students to identify the action and reaction force pairs in each scenario. Examples could include:\n",
    "     - A person pushing against a wall.\n",
    "     - A ball bouncing off the ground.\n",
    "     - A swimmer pushing against the water.\n",
    "   - Encourage students to think about the forces involved and how they act on different objects.\n",
    "\n",
    "**3. Real-Life Applications:**\n",
    "   - Discuss real-life examples where Newton's Third Law is at play, such as:\n",
    "     - Rocket propulsion: The action force is the expulsion of gas from the rocket engines, and the reaction force is the resulting upward movement of the rocket.\n",
    "     - Walking: Each step involves pushing against the ground, which pushes back with an equal force, propelling the person forward.\n",
    "     - Driving a car: The tires push against the road, and the road pushes back, propelling the car forward.\n",
    "   - Encourage students to brainstorm other examples they encounter in daily life.\n",
    "   \n",
    "**Conclusion:**\n",
    "Review the key points of the lesson:\n",
    "- Newton's Third Law states that for every action, there is an equal and opposite reaction.\n",
    "- Action and reaction force pairs exist in all interactions between objects.\n",
    "- Understanding Newton's Third Law helps us explain and predict motion in the world around us.\n",
    "\n",
    "\"\"\""
   ]
  },
  {
   "cell_type": "code",
   "execution_count": null,
   "metadata": {
    "id": "LkR0HhakBnyY"
   },
   "outputs": [],
   "source": [
    "messages = [{\"role\":\"user\",\"content\":user_input+quiz_input}]"
   ]
  },
  {
   "cell_type": "code",
   "execution_count": null,
   "metadata": {
    "id": "Y6RQK9AFCB_7"
   },
   "outputs": [],
   "source": [
    "response = client.chat.completions.create(\n",
    "    messages = messages,\n",
    "    model = deployment_name,\n",
    "    max_tokens=1000,\n",
    "    temperature=0.2\n",
    ")"
   ]
  },
  {
   "cell_type": "code",
   "execution_count": null,
   "metadata": {
    "colab": {
     "base_uri": "https://localhost:8080/"
    },
    "executionInfo": {
     "elapsed": 18,
     "status": "ok",
     "timestamp": 1713273118253,
     "user": {
      "displayName": "Sai Lohith Reddy Gummireddy",
      "userId": "15869979807103790771"
     },
     "user_tz": -330
    },
    "id": "IuAiv0U8CCAC",
    "outputId": "7150c193-92a9-4caf-d5ad-365c9e105840"
   },
   "outputs": [
    {
     "name": "stdout",
     "output_type": "stream",
     "text": [
      "Question 1: Where was Christopher Columbus born?\n",
      "Options:\n",
      "a) Madrid, Spain\n",
      "b) Paris, France\n",
      "c) Genoa, Italy\n",
      "d) London, England\n",
      "\n",
      "Explanation:\n",
      "The correct answer is c) Genoa, Italy. Christopher Columbus was born in Genoa, Italy, around 1451.\n",
      "\n",
      "Incorrect Answers:\n",
      "a) Madrid, Spain is incorrect because Columbus was not born in Spain.\n",
      "b) Paris, France is incorrect because Columbus was not born in France.\n",
      "d) London, England is incorrect because Columbus was not born in England.\n",
      "\n",
      "Question 2: What was Christopher Columbus's dream?\n",
      "Options:\n",
      "a) To find a faster route to Asia by sailing west across the Atlantic Ocean\n",
      "b) To become a famous painter\n",
      "c) To discover a new continent\n",
      "d) To become a wealthy merchant\n",
      "\n",
      "Explanation:\n",
      "The correct answer is a) To find a faster route to Asia by sailing west across the Atlantic Ocean. Columbus became fascinated with the idea of exploration and dreamed of finding a faster route to Asia by sailing west across the Atlantic Ocean.\n",
      "\n",
      "Incorrect Answers:\n",
      "b) To become a famous painter is incorrect because there is no evidence that Columbus had an interest in painting.\n",
      "c) To discover a new continent is incorrect because Columbus believed he had reached Asia, not a new continent.\n",
      "d) To become a wealthy merchant is incorrect because Columbus was more interested in exploration than in commerce.\n",
      "\n",
      "Question 3: How many ships did Columbus set sail with on his first voyage?\n",
      "Options:\n",
      "a) One\n",
      "b) Two\n",
      "c) Three\n",
      "d) Four\n",
      "\n",
      "Explanation:\n",
      "The correct answer is c) Three. Columbus set sail from the Spanish port of Palos with three ships: the Santa Maria, the Pinta, and the Nina.\n",
      "\n",
      "Incorrect Answers:\n",
      "a) One is incorrect because Columbus set sail with three ships.\n",
      "b) Two is incorrect because Columbus set sail with three ships.\n",
      "d) Four is incorrect because Columbus set sail with three ships.\n",
      "\n",
      "Question 4: How long did Columbus's first voyage last?\n",
      "Options:\n",
      "a) One month\n",
      "b) Two months\n",
      "c) Three months\n",
      "d) Four months\n",
      "\n",
      "Explanation:\n",
      "The correct answer is b) Two months. Columbus's first voyage lasted approximately two months.\n",
      "\n",
      "Incorrect Answers:\n",
      "a) One month is incorrect because Columbus's first voyage lasted longer than one month.\n",
      "c) Three months is incorrect because Columbus's first voyage lasted less than three months.\n",
      "d) Four months is incorrect because Columbus's first voyage lasted less than four months.\n",
      "\n",
      "Question 5: What did Columbus call the indigenous people he encountered?\n",
      "Options:\n",
      "a) Americans\n",
      "b) Natives\n",
      "c) Indians\n",
      "d) Islanders\n",
      "\n",
      "Explanation:\n",
      "The correct answer is c) Indians. Columbus believed he had reached Asia and called the indigenous people he encountered \"Indians.\"\n",
      "\n",
      "Incorrect Answers:\n",
      "a) Americans is incorrect because Columbus did not know he had discovered a new continent.\n",
      "b) Natives is incorrect because Columbus called the indigenous people \"Indians.\"\n",
      "d) Islanders is incorrect because Columbus called the indigenous people \"Indians.\"\n",
      "\n",
      "Question 6: How many voyages did Columbus make to the Caribbean and Central America?\n",
      "Options:\n",
      "a) One\n",
      "b) Two\n",
      "c) Three\n",
      "d) Four\n",
      "\n",
      "Explanation:\n",
      "The correct answer is d) Four. Columbus made a total of four voyages to the Caribbean and Central America between 1492 and 1504.\n",
      "\n",
      "Incorrect Answers:\n",
      "a) One is incorrect because Columbus made more than one voyage.\n",
      "b) Two is incorrect because Columbus made more than two voyages.\n",
      "c) Three is incorrect because Columbus made more than three voyages.\n",
      "\n",
      "Question 7: Did Columbus ever reach the mainland of North or South America?\n",
      "Options:\n",
      "a) Yes, he reached both North and South America\n",
      "b) Yes, he reached North America\n",
      "c) Yes, he reached South America\n",
      "d) No, he never reached the mainland of North or South America\n",
      "\n",
      "Explanation:\n",
      "The correct answer is d) No, he never reached the mainland of North or South America. Despite making four voyages to the Caribbean and Central America, Columbus never actually reached the mainland of North or South America.\n",
      "\n",
      "Incorrect Answers:\n",
      "a) Yes, he reached both North and South America is incorrect because Columbus never reached either mainland.\n",
      "b) Yes, he reached North America is incorrect because Columbus never reached North America.\n",
      "c) Yes, he reached South America is incorrect because Columbus never reached South America.\n",
      "\n",
      "Question 8: What were Columbus's initial hopes for his expeditions?\n",
      "Options:\n",
      "a) To find new trade routes\n",
      "b) To spread Christianity\n",
      "c) To find gold and spices\n",
      "d) To establish colonies\n",
      "\n",
      "Explanation:\n",
      "The correct answer is c) To find gold and spices. Columbus's initial hopes for his expeditions were to find gold and spices.\n",
      "\n",
      "Incorrect Answers:\n",
      "a) To find new trade routes is incorrect because Columbus was more interested in finding gold and spices.\n",
      "b) To spread Christianity is incorrect because Columbus's\n"
     ]
    }
   ],
   "source": [
    "print(response.choices[0].message.content)"
   ]
  },
  {
   "cell_type": "markdown",
   "metadata": {
    "id": "Cam8lYnxFjmk"
   },
   "source": [
    "The output from both the techniques is not that different. COT prompting isn't as useful as we expected in this situation. Zero-shot-prompt performed suffieciently well and since it is token-efficient, we shoul use that. However, in a different context COT's performance can be substantially higher.\n",
    "\n",
    "For example, let's carry out the same exercise for a math class. Let's say the topic is solving two-step equations."
   ]
  },
  {
   "cell_type": "markdown",
   "metadata": {
    "id": "WKvPZYUyJiVd"
   },
   "source": [
    "## 4 Math Quiz"
   ]
  },
  {
   "cell_type": "markdown",
   "metadata": {
    "id": "7F8T_gPJODi9"
   },
   "source": [
    "**Things to Ponder:**\n",
    "What kind of temperature, top-p, frequency penalty values can we use here?\n",
    "\n",
    "Note: Though we want the answers to be same everytime, we want different questions so that the teacher can chose from a variety of options.\n"
   ]
  },
  {
   "cell_type": "markdown",
   "metadata": {
    "id": "CyKssHcAadGk"
   },
   "source": [
    "What happens if we change temperature and what happens if we change top-p?\n",
    "\n",
    "Temperature regulates randomness, with lower temperatures yielding less randomness (greater determinism), whereas higher temperatures result in increased randomness.\n",
    "\n",
    "In more technical terms, a lower temperature boosts the model's confidence in its primary selections. A temperature set at 0 equates to argmax or maximum likelihood, representing the token with the highest probability. A higher temperature modifies the probabilities in such a way that all probabilities are closer to each other i.e., the model has only slightly more confidence in it's top choices. We do not want the model to be in this state for calculation. Hence a temperature of zero is fit for this situation.\n",
    "\n",
    "Regarding top-p, it calculates the cumulative probability distribution and halts once this distribution surpasses the specified top-p value. For instance, a top-p value of 0.3 implies that only tokens encompassing the top 30% probability mass are considered."
   ]
  },
  {
   "cell_type": "markdown",
   "metadata": {
    "id": "6Jvsf36Qw0jb"
   },
   "source": [
    "\n",
    "Between the two options, it is far more logical to maintain a temperature of zero. This ensures that high-probability terms, such as answers, are prioritized for selection. In instances where high probability terms are not present, words can be chosen from a limited sample set by incrementally increasing the top-p to small values."
   ]
  },
  {
   "cell_type": "markdown",
   "metadata": {
    "id": "T2XCCUEyLV9N"
   },
   "source": [
    "### 4.1 Zero_shot"
   ]
  },
  {
   "cell_type": "code",
   "execution_count": null,
   "metadata": {
    "id": "i9YhJND-JiV_"
   },
   "outputs": [],
   "source": [
    "quiz_input = \"\"\"Task: Generate a mcq quiz on the teaching material mentioned above.\n",
    "\n",
    "\n",
    "Output Format:\n",
    "Use the following format for each question:\n",
    "\n",
    "Question: [QUESTION TEXT]\n",
    "Options:\n",
    "a) [OPTION A]\n",
    "b) [OPTION B]\n",
    "c) [OPTION C]\n",
    "d) [OPTION D]\n",
    "\n",
    "Correct Option: [Correct Option]\n",
    "\n",
    "Explanation:\n",
    "[EXPLANATION FOR CORRECT ANSWER]\n",
    "\n",
    "Incorrect Answers:\n",
    "a) [EXPLANATION FOR OPTION A BEING CORRECT/INCORRECT]\n",
    "b) [EXPLANATION FOR OPTION B BEING CORRECT/INCORRECT]\n",
    "c) [EXPLANATION FOR OPTION C BEING CORRECT/INCORRECT]\n",
    "d) [EXPLANATION FOR OPTION D BEING CORRECT/INCORRECT]\n",
    "\n",
    "\"\"\""
   ]
  },
  {
   "cell_type": "code",
   "execution_count": null,
   "metadata": {
    "id": "G8SGKjsfJiWA"
   },
   "outputs": [],
   "source": [
    "user_input = \"\"\"\n",
    "**Lesson Material:**\n",
    "\n",
    "solving two-step equations\"\"\""
   ]
  },
  {
   "cell_type": "code",
   "execution_count": null,
   "metadata": {
    "id": "5Q3RPpd1JiWA"
   },
   "outputs": [],
   "source": [
    "messages = [{\"role\":\"user\",\"content\":user_input+quiz_input}]"
   ]
  },
  {
   "cell_type": "code",
   "execution_count": null,
   "metadata": {
    "id": "711tlEL3JiWB"
   },
   "outputs": [],
   "source": [
    "response = client.chat.completions.create(\n",
    "    messages = messages,\n",
    "    model = deployment_name,\n",
    "    temperature=0,\n",
    "    top_p = 0.2\n",
    ")"
   ]
  },
  {
   "cell_type": "code",
   "execution_count": null,
   "metadata": {
    "colab": {
     "base_uri": "https://localhost:8080/"
    },
    "executionInfo": {
     "elapsed": 15,
     "status": "ok",
     "timestamp": 1713352784582,
     "user": {
      "displayName": "Sai Lohith Reddy Gummireddy",
      "userId": "15869979807103790771"
     },
     "user_tz": -330
    },
    "id": "evL1CpftJiWB",
    "outputId": "31fa460b-1fe7-4199-80a8-76b8c83427b7"
   },
   "outputs": [
    {
     "name": "stdout",
     "output_type": "stream",
     "text": [
      "Question: What is the first step in solving a two-step equation?\n",
      "\n",
      "Options:\n",
      "a) Add or subtract the same number from both sides\n",
      "b) Multiply or divide both sides by the same number\n",
      "c) Combine like terms on both sides\n",
      "d) None of the above\n",
      "\n",
      "Correct Option: b) Multiply or divide both sides by the same number\n",
      "\n",
      "Explanation:\n",
      "The first step in solving a two-step equation is to undo the addition or subtraction by multiplying or dividing both sides by the same number.\n",
      "\n",
      "Incorrect Answers:\n",
      "a) This is the first step in solving a one-step equation, not a two-step equation.\n",
      "c) This step comes after the first step in solving a two-step equation.\n",
      "d) There is a first step in solving a two-step equation.\n",
      "\n",
      "Question: Solve for x: 3x + 5 = 14\n",
      "\n",
      "Options:\n",
      "a) x = 3\n",
      "b) x = 4\n",
      "c) x = 9\n",
      "d) x = 11\n",
      "\n",
      "Correct Option: b) x = 4\n",
      "\n",
      "Explanation:\n",
      "To solve for x, we first subtract 5 from both sides to get 3x = 9. Then, we divide both sides by 3 to get x = 3.\n",
      "\n",
      "Incorrect Answers:\n",
      "a) This is not the correct solution to the equation.\n",
      "c) This is not the correct solution to the equation.\n",
      "d) This is not the correct solution to the equation.\n",
      "\n",
      "Question: Solve for x: 2(x + 3) = 16\n",
      "\n",
      "Options:\n",
      "a) x = 4\n",
      "b) x = 5\n",
      "c) x = 6\n",
      "d) x = 7\n",
      "\n",
      "Correct Option: c) x = 6\n",
      "\n",
      "Explanation:\n",
      "To solve for x, we first distribute the 2 to get 2x + 6 = 16. Then, we subtract 6 from both sides to get 2x = 10. Finally, we divide both sides by 2 to get x = 5.\n",
      "\n",
      "Incorrect Answers:\n",
      "a) This is not the correct solution to the equation.\n",
      "b) This is not the correct solution to the equation.\n",
      "d) This is not the correct solution to the equation.\n",
      "\n",
      "Question: Solve for x: 4x - 7 = 9\n",
      "\n",
      "Options:\n",
      "a) x = 2\n",
      "b) x = 4\n",
      "c) x = 5\n",
      "d) x = 6\n",
      "\n",
      "Correct Option: c) x = 5\n",
      "\n",
      "Explanation:\n",
      "To solve for x, we first add 7 to both sides to get 4x = 16. Then, we divide both sides by 4 to get x = 4.\n",
      "\n",
      "Incorrect Answers:\n",
      "a) This is not the correct solution to the equation.\n",
      "b) This is not the correct solution to the equation.\n",
      "d) This is not the correct solution to the equation.\n",
      "\n",
      "Question: Solve for x: 5x - 2 = 23\n",
      "\n",
      "Options:\n",
      "a) x = 3\n",
      "b) x = 5\n",
      "c) x = 6\n",
      "d) x = 7\n",
      "\n",
      "Correct Option: d) x = 7\n",
      "\n",
      "Explanation:\n",
      "To solve for x, we first add 2 to both sides to get 5x = 25. Then, we divide both sides by 5 to get x = 5.\n",
      "\n",
      "Incorrect Answers:\n",
      "a) This is not the correct solution to the equation.\n",
      "b) This is not the correct solution to the equation.\n",
      "c) This is not the correct solution to the equation.\n"
     ]
    }
   ],
   "source": [
    "print(response.choices[0].message.content)"
   ]
  },
  {
   "cell_type": "markdown",
   "metadata": {
    "id": "WasfePNTLiKP"
   },
   "source": [
    "We can clearly see that most of the answers provided are incorrect. But you can see that it generates the right answer during explanation. Let's try COT and see if we can get better responses."
   ]
  },
  {
   "cell_type": "markdown",
   "metadata": {
    "id": "J4leuq5dZErZ"
   },
   "source": [
    "An LLM can be made to \"think\" in steps by making small changes to the prompt. The general way of achieving that is by adding the line \"think in steps\" to the prompt.\n",
    "Let me show you a small change in our curren prompt which has the same effect. It forces the llm to think first and answer later."
   ]
  },
  {
   "cell_type": "markdown",
   "metadata": {
    "id": "yyGP3bCOM5f5"
   },
   "source": [
    "Placing the explanation before the correct option in the prompt is intended to prompt the LLM Model to engage in a more thoughtful process when formulating its response. Rather than immediately providing an answer, this approach encourages the model to approach the problem by breaking it down into simpler sub-problems. By doing so, it is more probable that the model will find answers to these sub-problems within its training data, thereby increasing the likelihood of accurate responses. Subsequently, the model can build upon the solutions obtained from these sub-problems to address the entire problem effectively."
   ]
  },
  {
   "cell_type": "code",
   "execution_count": null,
   "metadata": {
    "id": "gXS-onI2MJDu"
   },
   "outputs": [],
   "source": [
    "quiz_input = \"\"\"Task: Generate a mcq quiz on the teaching material mentioned above.\n",
    "\n",
    "\n",
    "Output Format:\n",
    "Use the following format for each question:\n",
    "\n",
    "Question: [QUESTION TEXT]\n",
    "Options:\n",
    "a) [OPTION A]\n",
    "b) [OPTION B]\n",
    "c) [OPTION C]\n",
    "d) [OPTION D]\n",
    "\n",
    "Explanation:\n",
    "[EXPLANATION FOR CORRECT ANSWER]\n",
    "\n",
    "Correct Option: [Correct Option]\n",
    "\n",
    "Incorrect Answers:\n",
    "a) [EXPLANATION FOR OPTION A BEING CORRECT/INCORRECT]\n",
    "b) [EXPLANATION FOR OPTION B BEING CORRECT/INCORRECT]\n",
    "c) [EXPLANATION FOR OPTION C BEING CORRECT/INCORRECT]\n",
    "d) [EXPLANATION FOR OPTION D BEING CORRECT/INCORRECT]\n",
    "\n",
    "\"\"\""
   ]
  },
  {
   "cell_type": "code",
   "execution_count": null,
   "metadata": {
    "id": "vgXkkKG5MJEO"
   },
   "outputs": [],
   "source": [
    "user_input = \"\"\"\n",
    "**Lesson Material:**\n",
    "\n",
    "solving two-step equations\"\"\""
   ]
  },
  {
   "cell_type": "code",
   "execution_count": null,
   "metadata": {
    "id": "TPxKygtWMJEO"
   },
   "outputs": [],
   "source": [
    "messages = [{\"role\":\"user\",\"content\":user_input+quiz_input}]"
   ]
  },
  {
   "cell_type": "code",
   "execution_count": null,
   "metadata": {
    "id": "bx6-Kj-cMJEO"
   },
   "outputs": [],
   "source": [
    "response = client.chat.completions.create(\n",
    "    messages = messages,\n",
    "    model = deployment_name,\n",
    "    temperature=0,\n",
    "    top_p = 0.2\n",
    ")"
   ]
  },
  {
   "cell_type": "code",
   "execution_count": null,
   "metadata": {
    "colab": {
     "base_uri": "https://localhost:8080/"
    },
    "executionInfo": {
     "elapsed": 13,
     "status": "ok",
     "timestamp": 1713352862901,
     "user": {
      "displayName": "Sai Lohith Reddy Gummireddy",
      "userId": "15869979807103790771"
     },
     "user_tz": -330
    },
    "id": "Mrjqew5XMJEO",
    "outputId": "b942f8a0-f095-4fd8-c068-2626eb76e320"
   },
   "outputs": [
    {
     "name": "stdout",
     "output_type": "stream",
     "text": [
      "Question: What is the first step in solving a two-step equation?\n",
      "Options:\n",
      "a) Add or subtract the constant term\n",
      "b) Multiply or divide the variable term\n",
      "c) Combine like terms\n",
      "d) None of the above\n",
      "\n",
      "Explanation: The first step in solving a two-step equation is to undo the addition or subtraction by performing the opposite operation.\n",
      "\n",
      "Correct Option: a\n",
      "\n",
      "Incorrect Answers:\n",
      "b) Multiplying or dividing the variable term is the second step in solving a two-step equation.\n",
      "c) Combining like terms is not necessary in solving a two-step equation.\n",
      "d) None of the above is incorrect as there is a specific first step in solving a two-step equation.\n",
      "\n",
      "Question: Solve for x: 3x + 5 = 14\n",
      "Options:\n",
      "a) x = 3\n",
      "b) x = 4\n",
      "c) x = 9\n",
      "d) x = 11\n",
      "\n",
      "Explanation: The first step is to undo the addition by subtracting 5 from both sides. This gives 3x = 9. The second step is to undo the multiplication by dividing both sides by 3. This gives x = 3.\n",
      "\n",
      "Correct Option: a\n",
      "\n",
      "Incorrect Answers:\n",
      "b) This is not the correct solution.\n",
      "c) This is not the correct solution.\n",
      "d) This is not the correct solution.\n",
      "\n",
      "Question: Solve for y: 2(y - 3) = 10\n",
      "Options:\n",
      "a) y = 1\n",
      "b) y = 4\n",
      "c) y = 6\n",
      "d) y = 8\n",
      "\n",
      "Explanation: The first step is to distribute the 2, which gives 2y - 6 = 10. The second step is to undo the subtraction by adding 6 to both sides. This gives 2y = 16. The third step is to undo the multiplication by dividing both sides by 2. This gives y = 8.\n",
      "\n",
      "Correct Option: d\n",
      "\n",
      "Incorrect Answers:\n",
      "a) This is not the correct solution.\n",
      "b) This is not the correct solution.\n",
      "c) This is not the correct solution.\n",
      "\n",
      "Question: Solve for z: 4z - 7 = 5z + 3\n",
      "Options:\n",
      "a) z = -10\n",
      "b) z = -4\n",
      "c) z = 2\n",
      "d) z = 10\n",
      "\n",
      "Explanation: The first step is to undo the addition or subtraction by performing the opposite operation. In this case, we can undo the subtraction by adding 7 to both sides. This gives 4z = 5z + 10. The second step is to undo the multiplication by dividing both sides by 4. This gives z = 2.\n",
      "\n",
      "Correct Option: c\n",
      "\n",
      "Incorrect Answers:\n",
      "a) This is not the correct solution.\n",
      "b) This is not the correct solution.\n",
      "d) This is not the correct solution.\n",
      "\n",
      "Question: Solve for w: 2w + 3 = 7w - 5\n",
      "Options:\n",
      "a) w = 2\n",
      "b) w = 4\n",
      "c) w = 3\n",
      "d) w = 8\n",
      "\n",
      "Explanation: The first step is to undo the addition or subtraction by performing the opposite operation. In this case, we can undo the addition by subtracting 3 from both sides. This gives -5w = -8. The second step is to undo the multiplication by dividing both sides by -5. This gives w = 8/5 or 1.6.\n",
      "\n",
      "Correct Option: d\n",
      "\n",
      "Incorrect Answers:\n",
      "a) This is not the correct solution.\n",
      "b) This is not the correct solution.\n",
      "c) This is not the correct solution.\n"
     ]
    }
   ],
   "source": [
    "print(response.choices[0].message.content)"
   ]
  },
  {
   "cell_type": "markdown",
   "metadata": {
    "id": "6gye5RfiYYuO"
   },
   "source": [
    "\n",
    "\n",
    "---\n",
    "\n",
    "\n",
    "The answers are much more accurate.\n",
    "\n",
    "\n",
    "---\n",
    "\n"
   ]
  },
  {
   "cell_type": "markdown",
   "metadata": {
    "id": "pvzyyWzZJiWB"
   },
   "source": [
    "### 4.2 COT"
   ]
  },
  {
   "cell_type": "markdown",
   "metadata": {
    "id": "suoinHQlvtcH"
   },
   "source": [
    "Let's try a more standard CoT approach and let's ask the model to 'think through the problem and explain its answer' without doing the trick with explanation and let's see how good that approach is."
   ]
  },
  {
   "cell_type": "code",
   "execution_count": null,
   "metadata": {
    "id": "6ya7XD9_JiWC"
   },
   "outputs": [],
   "source": [
    "quiz_input = \"\"\"Think through and explain your answer\n",
    "Task: Generate a mcq quiz with 10 questions on the teaching material mentioned above.\n",
    "\n",
    "Output Format:\n",
    "Use the following format for each question:\n",
    "\n",
    "Question: [QUESTION TEXT]\n",
    "Options:\n",
    "a) [OPTION A]\n",
    "b) [OPTION B]\n",
    "c) [OPTION C]\n",
    "d) [OPTION D]\n",
    "\n",
    "Correct Option: [Correct Option]\n",
    "\n",
    "Explanation:\n",
    "[EXPLANATION FOR CORRECT ANSWER]\n",
    "\n",
    "Incorrect Answers:\n",
    "a) [EXPLANATION FOR OPTION A BEING CORRECT/INCORRECT]\n",
    "b) [EXPLANATION FOR OPTION B BEING CORRECT/INCORRECT]\n",
    "c) [EXPLANATION FOR OPTION C BEING CORRECT/INCORRECT]\n",
    "d) [EXPLANATION FOR OPTION D BEING CORRECT/INCORRECT]\n",
    "\n",
    "\"\"\""
   ]
  },
  {
   "cell_type": "code",
   "execution_count": null,
   "metadata": {
    "id": "1y7hwYMgJiWC"
   },
   "outputs": [],
   "source": [
    "user_input = \"\"\"\n",
    "**Lesson Material:**\n",
    "\n",
    "solving two-step equations\"\"\""
   ]
  },
  {
   "cell_type": "code",
   "execution_count": null,
   "metadata": {
    "id": "brJ-rF7ZJiWD"
   },
   "outputs": [],
   "source": [
    "messages = [{\"role\":\"user\",\"content\":user_input+quiz_input}]"
   ]
  },
  {
   "cell_type": "code",
   "execution_count": null,
   "metadata": {
    "id": "9sxwCFBSJiWD"
   },
   "outputs": [],
   "source": [
    "response = client.chat.completions.create(\n",
    "    messages = messages,\n",
    "    model = deployment_name,\n",
    "    temperature=0.2\n",
    ")"
   ]
  },
  {
   "cell_type": "code",
   "execution_count": null,
   "metadata": {
    "colab": {
     "base_uri": "https://localhost:8080/"
    },
    "executionInfo": {
     "elapsed": 18,
     "status": "ok",
     "timestamp": 1713352247462,
     "user": {
      "displayName": "Sai Lohith Reddy Gummireddy",
      "userId": "15869979807103790771"
     },
     "user_tz": -330
    },
    "id": "lSiBcmKEJiWD",
    "outputId": "bf7b7f2d-973c-4b37-96de-dfa27cb8c067"
   },
   "outputs": [
    {
     "name": "stdout",
     "output_type": "stream",
     "text": [
      "Question: What is the first step in solving a two-step equation?\n",
      "Options:\n",
      "a) Add or subtract the constant term\n",
      "b) Multiply or divide the variable term\n",
      "c) Combine like terms\n",
      "d) None of the above\n",
      "\n",
      "Correct Option: b) Multiply or divide the variable term\n",
      "\n",
      "Explanation:\n",
      "The first step in solving a two-step equation is to undo the operation that is being performed on the variable term. If the variable term is being multiplied or divided, then we need to undo that operation by dividing or multiplying, respectively.\n",
      "\n",
      "Incorrect Answers:\n",
      "a) Adding or subtracting the constant term is the second step in solving a two-step equation.\n",
      "c) Combining like terms is not necessary in solving a two-step equation.\n",
      "d) None of the above is incorrect as there is a specific first step in solving a two-step equation.\n",
      "\n",
      "Question: Solve for x: 3x + 5 = 14\n",
      "Options:\n",
      "a) x = 3\n",
      "b) x = 4\n",
      "c) x = 9\n",
      "d) x = 11\n",
      "\n",
      "Correct Option: b) x = 4\n",
      "\n",
      "Explanation:\n",
      "To solve this equation, we need to undo the addition of 5 to the variable term by subtracting 5 from both sides. This gives us 3x = 9. Then, we need to undo the multiplication of 3 to the variable term by dividing both sides by 3. This gives us x = 3.\n",
      "\n",
      "Incorrect Answers:\n",
      "a) This is not the correct solution to the equation.\n",
      "c) This is not the correct solution to the equation.\n",
      "d) This is not the correct solution to the equation.\n",
      "\n",
      "Question: Solve for x: 2x - 3 = 9\n",
      "Options:\n",
      "a) x = 3\n",
      "b) x = 6\n",
      "c) x = 12\n",
      "d) x = 18\n",
      "\n",
      "Correct Option: b) x = 6\n",
      "\n",
      "Explanation:\n",
      "To solve this equation, we need to undo the subtraction of 3 from the variable term by adding 3 to both sides. This gives us 2x = 12. Then, we need to undo the multiplication of 2 to the variable term by dividing both sides by 2. This gives us x = 6.\n",
      "\n",
      "Incorrect Answers:\n",
      "a) This is not the correct solution to the equation.\n",
      "c) This is not the correct solution to the equation.\n",
      "d) This is not the correct solution to the equation.\n",
      "\n",
      "Question: Solve for x: 4x - 7 = 5x + 3\n",
      "Options:\n",
      "a) x = -10\n",
      "b) x = -4\n",
      "c) x = 2\n",
      "d) x = 10\n",
      "\n",
      "Correct Option: c) x = 2\n",
      "\n",
      "Explanation:\n",
      "To solve this equation, we need to undo the addition of 5x to the variable term by subtracting 5x from both sides. This gives us -x - 7 = 3. Then, we need to undo the subtraction of 7 from the variable term by adding 7 to both sides. This gives us -x = 10. Finally, we need to multiply both sides by -1 to get x = -10.\n",
      "\n",
      "Incorrect Answers:\n",
      "a) This is not the correct solution to the equation.\n",
      "b) This is not the correct solution to the equation.\n",
      "d) This is not the correct solution to the equation.\n",
      "\n",
      "Question: Solve for x: 6x + 2 = 3x - 4\n",
      "Options:\n",
      "a) x = -1\n",
      "b) x = -2\n",
      "c) x = 2\n",
      "d) x = 6\n",
      "\n",
      "Correct Option: b) x = -2\n",
      "\n",
      "Explanation:\n",
      "To solve this equation, we need to undo the subtraction of 3x from the variable term by adding 3x to both sides. This gives us 3x + 2 = -4. Then, we need to undo the addition of 2 to the variable term by subtracting 2 from both sides. This gives us 3x = -6. Finally, we need to divide both sides by 3 to get x = -2.\n",
      "\n",
      "Incorrect Answers:\n",
      "a) This is not the correct solution to the equation.\n",
      "c) This is not the correct solution to the equation.\n",
      "d) This is not the correct solution to the equation.\n",
      "\n",
      "Question: Solve for x: 5(x - 3) = 20\n",
      "Options:\n",
      "a) x = 2\n",
      "b) x = 5\n",
      "c) x = 7\n",
      "d) x = 8\n",
      "\n",
      "Correct Option: b) x = 5\n",
      "\n",
      "Explanation:\n",
      "To solve this equation, we need to distribute the 5 to the expression inside the parentheses. This gives us 5x - 15 = 20. Then, we need to undo the subtraction of 15 from the variable term by adding 15 to both sides. This gives us 5x = 35. Finally, we need to divide both sides by 5 to get x = 5.\n",
      "\n",
      "Incorrect Answers:\n",
      "a) This is not the correct solution to the equation.\n",
      "c) This is not the correct solution to the equation.\n",
      "d) This is not the correct solution to the equation.\n",
      "\n",
      "Question: Solve for x: 2(x + 4) - 3 = 11\n",
      "Options:\n",
      "a) x = 0\n",
      "b) x = 1\n",
      "c) x = 2\n",
      "d) x = 3\n",
      "\n",
      "Correct Option: d) x = 3\n",
      "\n",
      "Explanation:\n",
      "To solve this equation, we need to distribute the 2 to the expression inside the parentheses. This gives us 2x + 8 - 3 = 11. Then, we need to undo the addition of 8 and subtraction of 3 from the variable term by subtracting 5 from both sides. This gives us 2x = 8. Finally, we need to divide both sides by 2 to get x = 4.\n",
      "\n",
      "Incorrect Answers:\n",
      "a) This is not the correct solution to the equation.\n",
      "b) This is not the correct solution to the equation.\n",
      "c) This is not the correct solution to the equation.\n",
      "\n",
      "Question: Solve for x: 3(x - 2) + 5 = 14\n",
      "Options:\n",
      "a) x = 3\n",
      "b) x = 4\n",
      "c) x = 5\n",
      "d) x = 6\n",
      "\n",
      "Correct Option: d) x = 6\n",
      "\n",
      "Explanation:\n",
      "To solve this equation, we need to distribute the 3 to the expression inside the parentheses. This gives us 3x - 6 + 5 = 14. Then, we need to undo the subtraction of 6 and addition of 5 from the variable term by adding 1 to both sides. This gives us 3x = 15. Finally, we need to divide both sides by 3 to get x = 5.\n",
      "\n",
      "Incorrect Answers:\n",
      "a) This is not the correct solution to the equation.\n",
      "b) This is not the correct solution to the equation.\n",
      "c) This is not the correct solution to the equation.\n",
      "\n",
      "Question: Solve for x: 4(x + 3) - 2x = 10\n",
      "Options:\n",
      "a) x = -1\n",
      "b) x = 0\n",
      "c) x = 1\n",
      "d) x = 2\n",
      "\n",
      "Correct Option: c) x = 1\n",
      "\n",
      "Explanation:\n",
      "To solve this equation, we need to distribute the 4 to the expression inside the parentheses. This gives us 4x + 12 - 2x = 10. Then, we need to combine like terms by subtracting 12 from both sides. This gives us 2x = -2. Finally, we need to divide both sides by 2 to get x = 1.\n",
      "\n",
      "Incorrect Answers:\n",
      "a) This is not the correct solution to the equation.\n",
      "b) This is not the correct solution to the equation.\n",
      "d) This is not the correct solution to the equation.\n",
      "\n",
      "Question: Solve for x: 2(x - 1) + 3x = 11\n",
      "Options:\n",
      "a) x = 2\n",
      "b) x = 3\n",
      "c) x = 4\n",
      "d) x = 5\n",
      "\n",
      "Correct Option: b) x = 3\n",
      "\n",
      "Explanation:\n",
      "To solve this equation, we need to distribute the 2 to the expression inside the parentheses. This gives us 2x - 2 + 3x = 11. Then, we need to combine like terms by adding 2 to both sides. This gives us 5x = 13. Finally, we need to divide both sides by 5 to get x = 3.\n",
      "\n",
      "Incorrect Answers:\n",
      "a) This is not the correct solution to the equation.\n",
      "c) This is not the correct solution to the equation.\n",
      "d) This is not the correct solution to the equation.\n"
     ]
    }
   ],
   "source": [
    "print(response.choices[0].message.content)"
   ]
  },
  {
   "cell_type": "markdown",
   "metadata": {
    "id": "GT73rIJ4czXi"
   },
   "source": [
    "It is as bad as a zero-prompt before switching the explanation and correct option placement. We can see that the simple trick of placing explanation above correct answer works much better than a standard CoT trick. This illustrates that prompt engineering is an emperical field and experimentation is the only way to find the best prompt."
   ]
  },
  {
   "cell_type": "markdown",
   "metadata": {
    "id": "n9XxqzbcOiCL"
   },
   "source": [
    "\n",
    "Upon repeated attempts at this exercise, you'll find that regardless of the quality of the prompt, language models (LLMs) will inevitably produce incorrect responses. This is because LLMs operate probabilistically and aren't designed for precise calculations. While some LLMs tailored for math might perform better, there's no guarantee of always getting the right answer.\n",
    "\n",
    "The only reliable method for accurate responses from LLMs is to utilize agents that go beyond what we cover in this course. These agents represent the most suitable LLM technology for such tasks."
   ]
  }
 ],
 "metadata": {
  "colab": {
   "collapsed_sections": [
    "jRRgiY2nV0nj",
    "8mEMF8Z2VgDL",
    "vdLOQCy8VgDM",
    "Ln5Pr5aIv9-D",
    "0Hbv2SgtxEcA",
    "amyyBdOzIdSk",
    "snC_DtwYzMIu",
    "8urtKU7EzTyT",
    "dvHZ6wlQzgDx",
    "QqK0gVYJzaO1",
    "mchZuOnUFaSJ",
    "nEdvie_lFeLR",
    "T2XCCUEyLV9N",
    "pvzyyWzZJiWB"
   ],
   "provenance": []
  },
  "kernelspec": {
   "display_name": "base",
   "language": "python",
   "name": "python3"
  },
  "language_info": {
   "codemirror_mode": {
    "name": "ipython",
    "version": 3
   },
   "file_extension": ".py",
   "mimetype": "text/x-python",
   "name": "python",
   "nbconvert_exporter": "python",
   "pygments_lexer": "ipython3",
   "version": "3.11.5"
  }
 },
 "nbformat": 4,
 "nbformat_minor": 0
}
